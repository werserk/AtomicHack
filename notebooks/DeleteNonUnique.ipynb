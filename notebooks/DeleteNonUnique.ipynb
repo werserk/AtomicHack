{
 "cells": [
  {
   "metadata": {
    "jupyter": {
     "is_executing": true
    }
   },
   "cell_type": "code",
   "source": "DATA_DIR = \"../data/dataset\"",
   "id": "116ab49ac1e79f96",
   "outputs": [],
   "execution_count": null
  },
  {
   "metadata": {
    "ExecuteTime": {
     "end_time": "2024-06-14T16:11:16.470561Z",
     "start_time": "2024-06-14T16:11:16.457153Z"
    }
   },
   "cell_type": "code",
   "source": [
    "import glob\n",
    "import os\n",
    "\n",
    "filepaths = glob.glob(os.path.join(DATA_DIR, \"*.jpg\"))\n",
    "print(f\"Found {len(filepaths)} images\")"
   ],
   "id": "f838b7b2b1080b4a",
   "outputs": [
    {
     "name": "stdout",
     "output_type": "stream",
     "text": [
      "Found 1162 images\n"
     ]
    }
   ],
   "execution_count": 2
  },
  {
   "metadata": {
    "ExecuteTime": {
     "end_time": "2024-06-14T16:11:16.492184Z",
     "start_time": "2024-06-14T16:11:16.483673Z"
    }
   },
   "cell_type": "code",
   "source": [
    "from typing import Tuple\n",
    "\n",
    "\n",
    "def get_filename(filepath: str) -> str:\n",
    "    return os.path.basename(filepath).split('.')[0]\n",
    "\n",
    "\n",
    "def separate_filename(filename: str) -> Tuple[str, int]:\n",
    "    name, frame_id, *_ = os.path.basename(filename).split(' ')\n",
    "    name = name.strip()\n",
    "    frame_id = int(frame_id.strip('(').strip(')'))\n",
    "    return name, frame_id"
   ],
   "id": "9fba9d87aa739f56",
   "outputs": [],
   "execution_count": 3
  },
  {
   "metadata": {
    "ExecuteTime": {
     "end_time": "2024-06-14T16:11:16.546557Z",
     "start_time": "2024-06-14T16:11:16.537404Z"
    }
   },
   "cell_type": "code",
   "source": [
    "from typing import List\n",
    "\n",
    "\n",
    "class AnnotationObject:\n",
    "    def __init__(self, name: str) -> None:\n",
    "        self.name = name\n",
    "        self.dict_filepaths = {}\n",
    "        self._filepaths = []\n",
    "\n",
    "    def add(self, filepath: str) -> None:\n",
    "        filename = get_filename(filepath)\n",
    "        self.dict_filepaths[separate_filename(filename)[1]] = filepath\n",
    "        listed = sorted(list(self.dict_filepaths.items()), key=lambda x: int(x[0]))\n",
    "        self._filepaths = list([y for x, y in listed])\n",
    "\n",
    "    @property\n",
    "    def filepaths(self) -> List[str]:\n",
    "        return self._filepaths\n",
    "\n",
    "    def __repr__(self) -> str:\n",
    "        return f\"AnnotationObject({self.name}, {len(self.filepaths)})\""
   ],
   "id": "e1a1dd23f7cea257",
   "outputs": [],
   "execution_count": 4
  },
  {
   "metadata": {
    "ExecuteTime": {
     "end_time": "2024-06-14T16:11:16.705187Z",
     "start_time": "2024-06-14T16:11:16.659500Z"
    }
   },
   "cell_type": "code",
   "source": [
    "annotation_objects = {}\n",
    "for filepath in filepaths:\n",
    "    filename = get_filename(filepath)\n",
    "    name, number = separate_filename(filename)\n",
    "    if name not in annotation_objects:\n",
    "        annotation_objects[name] = AnnotationObject(name)\n",
    "    annotation_objects[name].add(filepath)"
   ],
   "id": "fcab354e54f346d",
   "outputs": [],
   "execution_count": 5
  },
  {
   "metadata": {
    "ExecuteTime": {
     "end_time": "2024-06-14T16:11:16.795969Z",
     "start_time": "2024-06-14T16:11:16.785574Z"
    }
   },
   "cell_type": "code",
   "source": "annotation_objects",
   "id": "aba95445c78bec4a",
   "outputs": [
    {
     "data": {
      "text/plain": [
       "{'9': AnnotationObject(9, 73),\n",
       " '4': AnnotationObject(4, 152),\n",
       " '5': AnnotationObject(5, 224),\n",
       " '11': AnnotationObject(11, 82),\n",
       " '8': AnnotationObject(8, 119),\n",
       " '6': AnnotationObject(6, 111),\n",
       " '7': AnnotationObject(7, 261),\n",
       " '1': AnnotationObject(1, 13),\n",
       " '3': AnnotationObject(3, 51),\n",
       " '12': AnnotationObject(12, 63),\n",
       " '2': AnnotationObject(2, 13)}"
      ]
     },
     "execution_count": 6,
     "metadata": {},
     "output_type": "execute_result"
    }
   ],
   "execution_count": 6
  },
  {
   "metadata": {
    "ExecuteTime": {
     "end_time": "2024-06-14T16:11:16.863370Z",
     "start_time": "2024-06-14T16:11:16.857931Z"
    }
   },
   "cell_type": "code",
   "source": "annotation_objects['12'].filepaths[0]",
   "id": "66592a550ab5586e",
   "outputs": [
    {
     "data": {
      "text/plain": [
       "'../data/dataset/12 (1).jpg'"
      ]
     },
     "execution_count": 7,
     "metadata": {},
     "output_type": "execute_result"
    }
   ],
   "execution_count": 7
  },
  {
   "metadata": {
    "ExecuteTime": {
     "end_time": "2024-06-14T16:11:18.111459Z",
     "start_time": "2024-06-14T16:11:16.944694Z"
    }
   },
   "cell_type": "code",
   "source": [
    "from fastdup import Fastdup\n",
    "import pandas as pd\n",
    "\n",
    "\n",
    "def find_unique_images(image_paths):\n",
    "    # Создайте DataFrame из списка путей к изображениям\n",
    "    df = pd.DataFrame(image_paths, columns=['filename'])\n",
    "\n",
    "    # Инициализация Fastdup\n",
    "    fd = Fastdup()\n",
    "\n",
    "    # Запуск анализа на дубликаты\n",
    "    results = fd.run(input_data=df)\n",
    "\n",
    "    # Получение дубликатов\n",
    "    duplicates = results['nearest_neighbors']\n",
    "\n",
    "    # Фильтрация дубликатов с очень малым расстоянием\n",
    "    duplicates = duplicates[duplicates['distance'] < 0.1] # порог расстояния может быть настроен\n",
    "\n",
    "    # Извлечение всех путей из дубликатов\n",
    "    duplicate_paths = set(duplicates['from']).union(set(duplicates['to']))\n",
    "\n",
    "    # Нахождение уникальных изображений\n",
    "    unique_images = [img for img in image_paths if img not in duplicate_paths]\n",
    "\n",
    "    return unique_images\n",
    "\n",
    "\n",
    "# Пример списка путей к изображениям\n",
    "image_paths = annotation_objects['12'].filepaths\n",
    "\n",
    "# Поиск уникальных изображений\n",
    "unique_images = find_unique_images(image_paths)\n",
    "\n",
    "# Вывод уникальных изображений\n",
    "if unique_images:\n",
    "    print(f\"Найдено {len(unique_images)} уникальных изображений:\")\n",
    "    for img in unique_images:\n",
    "        print(f\"Уникальное изображение: {img}\")\n",
    "else:\n",
    "    print(\"Уникальные изображения не найдены\")"
   ],
   "id": "2ef95f4244e4c064",
   "outputs": [
    {
     "ename": "ModuleNotFoundError",
     "evalue": "No module named '_ctypes'",
     "output_type": "error",
     "traceback": [
      "\u001B[0;31m---------------------------------------------------------------------------\u001B[0m",
      "\u001B[0;31mModuleNotFoundError\u001B[0m                       Traceback (most recent call last)",
      "Cell \u001B[0;32mIn[8], line 1\u001B[0m\n\u001B[0;32m----> 1\u001B[0m \u001B[38;5;28;01mfrom\u001B[39;00m \u001B[38;5;21;01mfastdup\u001B[39;00m \u001B[38;5;28;01mimport\u001B[39;00m Fastdup\n\u001B[1;32m      2\u001B[0m \u001B[38;5;28;01mimport\u001B[39;00m \u001B[38;5;21;01mpandas\u001B[39;00m \u001B[38;5;28;01mas\u001B[39;00m \u001B[38;5;21;01mpd\u001B[39;00m\n\u001B[1;32m      5\u001B[0m \u001B[38;5;28;01mdef\u001B[39;00m \u001B[38;5;21mfind_unique_images\u001B[39m(image_paths):\n\u001B[1;32m      6\u001B[0m     \u001B[38;5;66;03m# Создайте DataFrame из списка путей к изображениям\u001B[39;00m\n",
      "File \u001B[0;32m~/PycharmProjects/AtomicHack/.venv/lib/python3.8/site-packages/fastdup/__init__.py:19\u001B[0m\n\u001B[1;32m     16\u001B[0m \u001B[38;5;28;01mimport\u001B[39;00m \u001B[38;5;21;01mfastdup\u001B[39;00m\n\u001B[1;32m     18\u001B[0m os\u001B[38;5;241m.\u001B[39menviron[\u001B[38;5;124m\"\u001B[39m\u001B[38;5;124mQT_QPA_PLATFORM\u001B[39m\u001B[38;5;124m\"\u001B[39m] \u001B[38;5;241m=\u001B[39m\u001B[38;5;124m\"\u001B[39m\u001B[38;5;124moffscreen\u001B[39m\u001B[38;5;124m\"\u001B[39m\n\u001B[0;32m---> 19\u001B[0m \u001B[38;5;28;01mfrom\u001B[39;00m \u001B[38;5;21;01mctypes\u001B[39;00m \u001B[38;5;28;01mimport\u001B[39;00m \u001B[38;5;241m*\u001B[39m\n\u001B[1;32m     20\u001B[0m \u001B[38;5;28;01mimport\u001B[39;00m \u001B[38;5;21;01mpandas\u001B[39;00m \u001B[38;5;28;01mas\u001B[39;00m \u001B[38;5;21;01mpd\u001B[39;00m\n\u001B[1;32m     21\u001B[0m pd\u001B[38;5;241m.\u001B[39mset_option(\u001B[38;5;124m'\u001B[39m\u001B[38;5;124mdisplay.max_colwidth\u001B[39m\u001B[38;5;124m'\u001B[39m, \u001B[38;5;28;01mNone\u001B[39;00m)\n",
      "File \u001B[0;32m/usr/local/lib/python3.8/ctypes/__init__.py:7\u001B[0m\n\u001B[1;32m      3\u001B[0m \u001B[38;5;28;01mimport\u001B[39;00m \u001B[38;5;21;01mos\u001B[39;00m \u001B[38;5;28;01mas\u001B[39;00m \u001B[38;5;21;01m_os\u001B[39;00m\u001B[38;5;241m,\u001B[39m \u001B[38;5;21;01msys\u001B[39;00m \u001B[38;5;28;01mas\u001B[39;00m \u001B[38;5;21;01m_sys\u001B[39;00m\n\u001B[1;32m      5\u001B[0m __version__ \u001B[38;5;241m=\u001B[39m \u001B[38;5;124m\"\u001B[39m\u001B[38;5;124m1.1.0\u001B[39m\u001B[38;5;124m\"\u001B[39m\n\u001B[0;32m----> 7\u001B[0m \u001B[38;5;28;01mfrom\u001B[39;00m \u001B[38;5;21;01m_ctypes\u001B[39;00m \u001B[38;5;28;01mimport\u001B[39;00m Union, Structure, Array\n\u001B[1;32m      8\u001B[0m \u001B[38;5;28;01mfrom\u001B[39;00m \u001B[38;5;21;01m_ctypes\u001B[39;00m \u001B[38;5;28;01mimport\u001B[39;00m _Pointer\n\u001B[1;32m      9\u001B[0m \u001B[38;5;28;01mfrom\u001B[39;00m \u001B[38;5;21;01m_ctypes\u001B[39;00m \u001B[38;5;28;01mimport\u001B[39;00m CFuncPtr \u001B[38;5;28;01mas\u001B[39;00m _CFuncPtr\n",
      "\u001B[0;31mModuleNotFoundError\u001B[0m: No module named '_ctypes'"
     ]
    }
   ],
   "execution_count": 8
  }
 ],
 "metadata": {
  "kernelspec": {
   "display_name": "Python 3",
   "language": "python",
   "name": "python3"
  },
  "language_info": {
   "codemirror_mode": {
    "name": "ipython",
    "version": 2
   },
   "file_extension": ".py",
   "mimetype": "text/x-python",
   "name": "python",
   "nbconvert_exporter": "python",
   "pygments_lexer": "ipython2",
   "version": "2.7.6"
  }
 },
 "nbformat": 4,
 "nbformat_minor": 5
}
