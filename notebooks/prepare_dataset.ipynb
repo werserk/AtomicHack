{
 "cells": [
  {
   "cell_type": "code",
   "id": "initial_id",
   "metadata": {
    "collapsed": true,
    "ExecuteTime": {
     "end_time": "2024-06-14T14:23:18.246319Z",
     "start_time": "2024-06-14T14:23:18.238033Z"
    }
   },
   "source": [
    "import os \n",
    "import shutil\n",
    "from prepare_data.utils import create_folder"
   ],
   "outputs": [],
   "execution_count": 1
  },
  {
   "metadata": {},
   "cell_type": "markdown",
   "source": "## Separate images and labels",
   "id": "e95855209744fec2"
  },
  {
   "metadata": {
    "ExecuteTime": {
     "end_time": "2024-06-14T13:30:54.622530Z",
     "start_time": "2024-06-14T13:30:47.593054Z"
    }
   },
   "cell_type": "code",
   "source": [
    "data_dir = r'../data/dataset'\n",
    "data_save_dir = '../data/prepare_data'\n",
    "create_folder(data_save_dir)\n",
    "create_folder(os.path.join(data_save_dir, 'images'))\n",
    "create_folder(os.path.join(data_save_dir, 'labels'))\n",
    "\n",
    "for root, dirs, files in os.walk(data_dir):\n",
    "    for file in files:\n",
    "        exts = file.split('.')\n",
    "        if 'txt' in exts:\n",
    "            shutil.copy(os.path.join(root, file), os.path.join(data_save_dir, 'labels', file))\n",
    "        elif 'jpg' in exts:\n",
    "            shutil.copy(os.path.join(root, file), os.path.join(data_save_dir, 'images', file))\n",
    "        else:\n",
    "            print(f'type error for {file}')\n",
    "            "
   ],
   "id": "b0407dc01577c84b",
   "outputs": [
    {
     "name": "stdout",
     "output_type": "stream",
     "text": [
      "type error for readme.md\n"
     ]
    }
   ],
   "execution_count": 10
  },
  {
   "metadata": {},
   "cell_type": "code",
   "outputs": [],
   "execution_count": null,
   "source": "",
   "id": "f189b513d6626874"
  }
 ],
 "metadata": {
  "kernelspec": {
   "display_name": "Python 3",
   "language": "python",
   "name": "python3"
  },
  "language_info": {
   "codemirror_mode": {
    "name": "ipython",
    "version": 2
   },
   "file_extension": ".py",
   "mimetype": "text/x-python",
   "name": "python",
   "nbconvert_exporter": "python",
   "pygments_lexer": "ipython2",
   "version": "2.7.6"
  }
 },
 "nbformat": 4,
 "nbformat_minor": 5
}
