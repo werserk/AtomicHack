{
 "cells": [
  {
   "cell_type": "code",
   "id": "initial_id",
   "metadata": {
    "collapsed": true,
    "ExecuteTime": {
     "end_time": "2024-06-15T08:51:15.243765Z",
     "start_time": "2024-06-15T08:51:15.235955Z"
    }
   },
   "source": [
    "import os\n",
    "\n",
    "import pandas as pd\n",
    "\n",
    "from prepare_data.statistics import calculate_stats\n",
    "from prepare_data.utils import create_folder\n",
    "\n",
    "from sklearn.model_selection import train_test_split\n",
    "import shutil"
   ],
   "outputs": [],
   "execution_count": 21
  },
  {
   "metadata": {
    "ExecuteTime": {
     "end_time": "2024-06-15T08:56:15.031411Z",
     "start_time": "2024-06-15T08:56:15.025498Z"
    }
   },
   "cell_type": "code",
   "source": [
    "data_dir = '../data/clean_images94'\n",
    "labels_dir = '../data/prepare_data/labels'\n",
    "save_dir = '../data/yolov_data'"
   ],
   "id": "87cd1f865f44cd0c",
   "outputs": [],
   "execution_count": 53
  },
  {
   "metadata": {},
   "cell_type": "markdown",
   "source": "## Calculate Statistics for sep train - test - val",
   "id": "2bf1feb4036b5af3"
  },
  {
   "metadata": {
    "ExecuteTime": {
     "end_time": "2024-06-15T08:56:15.452972Z",
     "start_time": "2024-06-15T08:56:15.347394Z"
    }
   },
   "cell_type": "code",
   "source": [
    "df = pd.DataFrame(columns=['file_name', 'path_to_image', 'path_to_label'])\n",
    "for root, dirs, files in os.walk(data_dir):\n",
    "    for file in files:\n",
    "        path_to_image = os.path.join(root, file.replace('_label.', '.'))\n",
    "        path_to_label = os.path.join(labels_dir, file.replace('_label.', '.').replace('jpg', 'txt'))\n",
    "        df = pd.concat((df, pd.DataFrame({'file_name': file.split('.')[0],\n",
    "                                          'path_to_image': path_to_image,\n",
    "                                          'path_to_label': path_to_label}, index=[0])), ignore_index=True)"
   ],
   "id": "7dea1d91dfcab0be",
   "outputs": [],
   "execution_count": 54
  },
  {
   "metadata": {
    "ExecuteTime": {
     "end_time": "2024-06-15T08:56:15.761182Z",
     "start_time": "2024-06-15T08:56:15.748966Z"
    }
   },
   "cell_type": "code",
   "source": "df",
   "id": "ba99349a09b07cc1",
   "outputs": [
    {
     "data": {
      "text/plain": [
       "         file_name                       path_to_image  \\\n",
       "0      8 (2)_label    ../data/clean_images94/8 (2).jpg   \n",
       "1    7 (103)_label  ../data/clean_images94/7 (103).jpg   \n",
       "2    12 (60)_label  ../data/clean_images94/12 (60).jpg   \n",
       "3      4 (1)_label    ../data/clean_images94/4 (1).jpg   \n",
       "4    7 (148)_label  ../data/clean_images94/7 (148).jpg   \n",
       "..             ...                                 ...   \n",
       "172  5 (105)_label  ../data/clean_images94/5 (105).jpg   \n",
       "173  12 (42)_label  ../data/clean_images94/12 (42).jpg   \n",
       "174    1 (8)_label    ../data/clean_images94/1 (8).jpg   \n",
       "175  5 (183)_label  ../data/clean_images94/5 (183).jpg   \n",
       "176  7 (244)_label  ../data/clean_images94/7 (244).jpg   \n",
       "\n",
       "                               path_to_label  \n",
       "0      ../data/prepare_data/labels/8 (2).txt  \n",
       "1    ../data/prepare_data/labels/7 (103).txt  \n",
       "2    ../data/prepare_data/labels/12 (60).txt  \n",
       "3      ../data/prepare_data/labels/4 (1).txt  \n",
       "4    ../data/prepare_data/labels/7 (148).txt  \n",
       "..                                       ...  \n",
       "172  ../data/prepare_data/labels/5 (105).txt  \n",
       "173  ../data/prepare_data/labels/12 (42).txt  \n",
       "174    ../data/prepare_data/labels/1 (8).txt  \n",
       "175  ../data/prepare_data/labels/5 (183).txt  \n",
       "176  ../data/prepare_data/labels/7 (244).txt  \n",
       "\n",
       "[177 rows x 3 columns]"
      ],
      "text/html": [
       "<div>\n",
       "<style scoped>\n",
       "    .dataframe tbody tr th:only-of-type {\n",
       "        vertical-align: middle;\n",
       "    }\n",
       "\n",
       "    .dataframe tbody tr th {\n",
       "        vertical-align: top;\n",
       "    }\n",
       "\n",
       "    .dataframe thead th {\n",
       "        text-align: right;\n",
       "    }\n",
       "</style>\n",
       "<table border=\"1\" class=\"dataframe\">\n",
       "  <thead>\n",
       "    <tr style=\"text-align: right;\">\n",
       "      <th></th>\n",
       "      <th>file_name</th>\n",
       "      <th>path_to_image</th>\n",
       "      <th>path_to_label</th>\n",
       "    </tr>\n",
       "  </thead>\n",
       "  <tbody>\n",
       "    <tr>\n",
       "      <th>0</th>\n",
       "      <td>8 (2)_label</td>\n",
       "      <td>../data/clean_images94/8 (2).jpg</td>\n",
       "      <td>../data/prepare_data/labels/8 (2).txt</td>\n",
       "    </tr>\n",
       "    <tr>\n",
       "      <th>1</th>\n",
       "      <td>7 (103)_label</td>\n",
       "      <td>../data/clean_images94/7 (103).jpg</td>\n",
       "      <td>../data/prepare_data/labels/7 (103).txt</td>\n",
       "    </tr>\n",
       "    <tr>\n",
       "      <th>2</th>\n",
       "      <td>12 (60)_label</td>\n",
       "      <td>../data/clean_images94/12 (60).jpg</td>\n",
       "      <td>../data/prepare_data/labels/12 (60).txt</td>\n",
       "    </tr>\n",
       "    <tr>\n",
       "      <th>3</th>\n",
       "      <td>4 (1)_label</td>\n",
       "      <td>../data/clean_images94/4 (1).jpg</td>\n",
       "      <td>../data/prepare_data/labels/4 (1).txt</td>\n",
       "    </tr>\n",
       "    <tr>\n",
       "      <th>4</th>\n",
       "      <td>7 (148)_label</td>\n",
       "      <td>../data/clean_images94/7 (148).jpg</td>\n",
       "      <td>../data/prepare_data/labels/7 (148).txt</td>\n",
       "    </tr>\n",
       "    <tr>\n",
       "      <th>...</th>\n",
       "      <td>...</td>\n",
       "      <td>...</td>\n",
       "      <td>...</td>\n",
       "    </tr>\n",
       "    <tr>\n",
       "      <th>172</th>\n",
       "      <td>5 (105)_label</td>\n",
       "      <td>../data/clean_images94/5 (105).jpg</td>\n",
       "      <td>../data/prepare_data/labels/5 (105).txt</td>\n",
       "    </tr>\n",
       "    <tr>\n",
       "      <th>173</th>\n",
       "      <td>12 (42)_label</td>\n",
       "      <td>../data/clean_images94/12 (42).jpg</td>\n",
       "      <td>../data/prepare_data/labels/12 (42).txt</td>\n",
       "    </tr>\n",
       "    <tr>\n",
       "      <th>174</th>\n",
       "      <td>1 (8)_label</td>\n",
       "      <td>../data/clean_images94/1 (8).jpg</td>\n",
       "      <td>../data/prepare_data/labels/1 (8).txt</td>\n",
       "    </tr>\n",
       "    <tr>\n",
       "      <th>175</th>\n",
       "      <td>5 (183)_label</td>\n",
       "      <td>../data/clean_images94/5 (183).jpg</td>\n",
       "      <td>../data/prepare_data/labels/5 (183).txt</td>\n",
       "    </tr>\n",
       "    <tr>\n",
       "      <th>176</th>\n",
       "      <td>7 (244)_label</td>\n",
       "      <td>../data/clean_images94/7 (244).jpg</td>\n",
       "      <td>../data/prepare_data/labels/7 (244).txt</td>\n",
       "    </tr>\n",
       "  </tbody>\n",
       "</table>\n",
       "<p>177 rows × 3 columns</p>\n",
       "</div>"
      ]
     },
     "execution_count": 55,
     "metadata": {},
     "output_type": "execute_result"
    }
   ],
   "execution_count": 55
  },
  {
   "metadata": {
    "ExecuteTime": {
     "end_time": "2024-06-15T08:56:16.363869Z",
     "start_time": "2024-06-15T08:56:16.196891Z"
    }
   },
   "cell_type": "code",
   "source": "stat = calculate_stats(df)",
   "id": "a7eb76d146d8f65b",
   "outputs": [],
   "execution_count": 56
  },
  {
   "metadata": {
    "ExecuteTime": {
     "end_time": "2024-06-15T08:56:16.474784Z",
     "start_time": "2024-06-15T08:56:16.457457Z"
    }
   },
   "cell_type": "code",
   "source": "stat.groupby('video_id').sum()[['pat0', 'pat1', 'pat2', 'pat3', 'pat4']]",
   "id": "5f34615f78712341",
   "outputs": [
    {
     "data": {
      "text/plain": [
       "         pat0 pat1 pat2 pat3 pat4\n",
       "video_id                         \n",
       "1          39    2    5    0    0\n",
       "3           2    0    2    2    3\n",
       "4          30   12   20   14    4\n",
       "5          94   27   47   24   15\n",
       "6           0    0    0    0    0\n",
       "7          83   16   43    3   22\n",
       "8           0    0    9    4    0\n",
       "11          0    0    3    0    0\n",
       "12          0   55    0    0   14"
      ],
      "text/html": [
       "<div>\n",
       "<style scoped>\n",
       "    .dataframe tbody tr th:only-of-type {\n",
       "        vertical-align: middle;\n",
       "    }\n",
       "\n",
       "    .dataframe tbody tr th {\n",
       "        vertical-align: top;\n",
       "    }\n",
       "\n",
       "    .dataframe thead th {\n",
       "        text-align: right;\n",
       "    }\n",
       "</style>\n",
       "<table border=\"1\" class=\"dataframe\">\n",
       "  <thead>\n",
       "    <tr style=\"text-align: right;\">\n",
       "      <th></th>\n",
       "      <th>pat0</th>\n",
       "      <th>pat1</th>\n",
       "      <th>pat2</th>\n",
       "      <th>pat3</th>\n",
       "      <th>pat4</th>\n",
       "    </tr>\n",
       "    <tr>\n",
       "      <th>video_id</th>\n",
       "      <th></th>\n",
       "      <th></th>\n",
       "      <th></th>\n",
       "      <th></th>\n",
       "      <th></th>\n",
       "    </tr>\n",
       "  </thead>\n",
       "  <tbody>\n",
       "    <tr>\n",
       "      <th>1</th>\n",
       "      <td>39</td>\n",
       "      <td>2</td>\n",
       "      <td>5</td>\n",
       "      <td>0</td>\n",
       "      <td>0</td>\n",
       "    </tr>\n",
       "    <tr>\n",
       "      <th>3</th>\n",
       "      <td>2</td>\n",
       "      <td>0</td>\n",
       "      <td>2</td>\n",
       "      <td>2</td>\n",
       "      <td>3</td>\n",
       "    </tr>\n",
       "    <tr>\n",
       "      <th>4</th>\n",
       "      <td>30</td>\n",
       "      <td>12</td>\n",
       "      <td>20</td>\n",
       "      <td>14</td>\n",
       "      <td>4</td>\n",
       "    </tr>\n",
       "    <tr>\n",
       "      <th>5</th>\n",
       "      <td>94</td>\n",
       "      <td>27</td>\n",
       "      <td>47</td>\n",
       "      <td>24</td>\n",
       "      <td>15</td>\n",
       "    </tr>\n",
       "    <tr>\n",
       "      <th>6</th>\n",
       "      <td>0</td>\n",
       "      <td>0</td>\n",
       "      <td>0</td>\n",
       "      <td>0</td>\n",
       "      <td>0</td>\n",
       "    </tr>\n",
       "    <tr>\n",
       "      <th>7</th>\n",
       "      <td>83</td>\n",
       "      <td>16</td>\n",
       "      <td>43</td>\n",
       "      <td>3</td>\n",
       "      <td>22</td>\n",
       "    </tr>\n",
       "    <tr>\n",
       "      <th>8</th>\n",
       "      <td>0</td>\n",
       "      <td>0</td>\n",
       "      <td>9</td>\n",
       "      <td>4</td>\n",
       "      <td>0</td>\n",
       "    </tr>\n",
       "    <tr>\n",
       "      <th>11</th>\n",
       "      <td>0</td>\n",
       "      <td>0</td>\n",
       "      <td>3</td>\n",
       "      <td>0</td>\n",
       "      <td>0</td>\n",
       "    </tr>\n",
       "    <tr>\n",
       "      <th>12</th>\n",
       "      <td>0</td>\n",
       "      <td>55</td>\n",
       "      <td>0</td>\n",
       "      <td>0</td>\n",
       "      <td>14</td>\n",
       "    </tr>\n",
       "  </tbody>\n",
       "</table>\n",
       "</div>"
      ]
     },
     "execution_count": 57,
     "metadata": {},
     "output_type": "execute_result"
    }
   ],
   "execution_count": 57
  },
  {
   "metadata": {},
   "cell_type": "markdown",
   "source": "Труба - 12, 11, 9, 8, 6, ",
   "id": "739e76c344dd2059"
  },
  {
   "metadata": {
    "ExecuteTime": {
     "end_time": "2024-06-15T08:56:17.383439Z",
     "start_time": "2024-06-15T08:56:17.379208Z"
    }
   },
   "cell_type": "code",
   "source": [
    "tube = [12, 11, 9, 8, 6]\n",
    "plane = [1, 3, 4, 5, 7]"
   ],
   "id": "a5dfa32e5664d92b",
   "outputs": [],
   "execution_count": 58
  },
  {
   "metadata": {
    "ExecuteTime": {
     "end_time": "2024-06-15T08:56:17.782063Z",
     "start_time": "2024-06-15T08:56:17.768907Z"
    }
   },
   "cell_type": "code",
   "source": [
    "train_tube, test_tube = train_test_split(tube, test_size=0.2, random_state=43, shuffle=True)\n",
    "train_plane, test_plane = train_test_split(plane, test_size=0.2, random_state=43, shuffle=True)\n",
    "\n",
    "train = train_plane + train_tube\n",
    "test = test_plane + test_tube\n"
   ],
   "id": "8b9b498b561a8e74",
   "outputs": [],
   "execution_count": 59
  },
  {
   "metadata": {
    "ExecuteTime": {
     "end_time": "2024-06-15T08:56:18.204012Z",
     "start_time": "2024-06-15T08:56:18.198790Z"
    }
   },
   "cell_type": "code",
   "source": "test",
   "id": "efe0c9029ea48c50",
   "outputs": [
    {
     "data": {
      "text/plain": [
       "[5, 8]"
      ]
     },
     "execution_count": 60,
     "metadata": {},
     "output_type": "execute_result"
    }
   ],
   "execution_count": 60
  },
  {
   "metadata": {
    "ExecuteTime": {
     "end_time": "2024-06-15T08:56:19.073361Z",
     "start_time": "2024-06-15T08:56:19.045563Z"
    }
   },
   "cell_type": "code",
   "source": "stat[stat['video_id'].isin(test)].groupby('video_id').sum()[['pat0', 'pat1', 'pat2', 'pat3', 'pat4']].sum()\n",
   "id": "c81c400ea615787d",
   "outputs": [
    {
     "data": {
      "text/plain": [
       "pat0    94\n",
       "pat1    27\n",
       "pat2    56\n",
       "pat3    28\n",
       "pat4    15\n",
       "dtype: object"
      ]
     },
     "execution_count": 61,
     "metadata": {},
     "output_type": "execute_result"
    }
   ],
   "execution_count": 61
  },
  {
   "metadata": {
    "ExecuteTime": {
     "end_time": "2024-06-15T08:56:19.854078Z",
     "start_time": "2024-06-15T08:56:19.843827Z"
    }
   },
   "cell_type": "code",
   "source": [
    "stat[stat['video_id'].isin(train)].groupby('video_id').sum()[['pat0', 'pat1', 'pat2', 'pat3', 'pat4']].sum()\n",
    "    "
   ],
   "id": "5824f76e970876d",
   "outputs": [
    {
     "data": {
      "text/plain": [
       "pat0    154\n",
       "pat1     85\n",
       "pat2     73\n",
       "pat3     19\n",
       "pat4     43\n",
       "dtype: object"
      ]
     },
     "execution_count": 62,
     "metadata": {},
     "output_type": "execute_result"
    }
   ],
   "execution_count": 62
  },
  {
   "metadata": {
    "ExecuteTime": {
     "end_time": "2024-06-15T08:56:20.998132Z",
     "start_time": "2024-06-15T08:56:20.992354Z"
    }
   },
   "cell_type": "code",
   "source": "stat['train_test'] = stat['video_id'].map(lambda x: 'train' if x in train else 'test')",
   "id": "fe89cb2fb851b455",
   "outputs": [],
   "execution_count": 63
  },
  {
   "metadata": {
    "ExecuteTime": {
     "end_time": "2024-06-15T08:56:22.051837Z",
     "start_time": "2024-06-15T08:56:22.036373Z"
    }
   },
   "cell_type": "code",
   "source": "stat",
   "id": "882958710f6c978e",
   "outputs": [
    {
     "data": {
      "text/plain": [
       "                               path_to_label  \\\n",
       "0      ../data/prepare_data/labels/8 (2).txt   \n",
       "1    ../data/prepare_data/labels/7 (103).txt   \n",
       "2    ../data/prepare_data/labels/12 (60).txt   \n",
       "3      ../data/prepare_data/labels/4 (1).txt   \n",
       "4    ../data/prepare_data/labels/7 (148).txt   \n",
       "..                                       ...   \n",
       "172  ../data/prepare_data/labels/5 (105).txt   \n",
       "173  ../data/prepare_data/labels/12 (42).txt   \n",
       "174    ../data/prepare_data/labels/1 (8).txt   \n",
       "175  ../data/prepare_data/labels/5 (183).txt   \n",
       "176  ../data/prepare_data/labels/7 (244).txt   \n",
       "\n",
       "                          path_to_image           name video_id frame_id pat0  \\\n",
       "0      ../data/clean_images94/8 (2).jpg    8 (2)_label        8        2    0   \n",
       "1    ../data/clean_images94/7 (103).jpg  7 (103)_label        7      103    4   \n",
       "2    ../data/clean_images94/12 (60).jpg  12 (60)_label       12       60    0   \n",
       "3      ../data/clean_images94/4 (1).jpg    4 (1)_label        4        1    0   \n",
       "4    ../data/clean_images94/7 (148).jpg  7 (148)_label        7      148    6   \n",
       "..                                  ...            ...      ...      ...  ...   \n",
       "172  ../data/clean_images94/5 (105).jpg  5 (105)_label        5      105    0   \n",
       "173  ../data/clean_images94/12 (42).jpg  12 (42)_label       12       42    0   \n",
       "174    ../data/clean_images94/1 (8).jpg    1 (8)_label        1        8    7   \n",
       "175  ../data/clean_images94/5 (183).jpg  5 (183)_label        5      183    2   \n",
       "176  ../data/clean_images94/7 (244).jpg  7 (244)_label        7      244    4   \n",
       "\n",
       "    pat1 pat2 pat3 pat4 train_test  \n",
       "0      0    2    1    0       test  \n",
       "1      1    1    0    1      train  \n",
       "2      1    0    0    0      train  \n",
       "3      0    1    0    1      train  \n",
       "4      0    2    0    0      train  \n",
       "..   ...  ...  ...  ...        ...  \n",
       "172    1    0    0    0       test  \n",
       "173    0    0    0    0      train  \n",
       "174    0    0    0    0      train  \n",
       "175    1    0    0    0       test  \n",
       "176    1    1    0    0      train  \n",
       "\n",
       "[177 rows x 11 columns]"
      ],
      "text/html": [
       "<div>\n",
       "<style scoped>\n",
       "    .dataframe tbody tr th:only-of-type {\n",
       "        vertical-align: middle;\n",
       "    }\n",
       "\n",
       "    .dataframe tbody tr th {\n",
       "        vertical-align: top;\n",
       "    }\n",
       "\n",
       "    .dataframe thead th {\n",
       "        text-align: right;\n",
       "    }\n",
       "</style>\n",
       "<table border=\"1\" class=\"dataframe\">\n",
       "  <thead>\n",
       "    <tr style=\"text-align: right;\">\n",
       "      <th></th>\n",
       "      <th>path_to_label</th>\n",
       "      <th>path_to_image</th>\n",
       "      <th>name</th>\n",
       "      <th>video_id</th>\n",
       "      <th>frame_id</th>\n",
       "      <th>pat0</th>\n",
       "      <th>pat1</th>\n",
       "      <th>pat2</th>\n",
       "      <th>pat3</th>\n",
       "      <th>pat4</th>\n",
       "      <th>train_test</th>\n",
       "    </tr>\n",
       "  </thead>\n",
       "  <tbody>\n",
       "    <tr>\n",
       "      <th>0</th>\n",
       "      <td>../data/prepare_data/labels/8 (2).txt</td>\n",
       "      <td>../data/clean_images94/8 (2).jpg</td>\n",
       "      <td>8 (2)_label</td>\n",
       "      <td>8</td>\n",
       "      <td>2</td>\n",
       "      <td>0</td>\n",
       "      <td>0</td>\n",
       "      <td>2</td>\n",
       "      <td>1</td>\n",
       "      <td>0</td>\n",
       "      <td>test</td>\n",
       "    </tr>\n",
       "    <tr>\n",
       "      <th>1</th>\n",
       "      <td>../data/prepare_data/labels/7 (103).txt</td>\n",
       "      <td>../data/clean_images94/7 (103).jpg</td>\n",
       "      <td>7 (103)_label</td>\n",
       "      <td>7</td>\n",
       "      <td>103</td>\n",
       "      <td>4</td>\n",
       "      <td>1</td>\n",
       "      <td>1</td>\n",
       "      <td>0</td>\n",
       "      <td>1</td>\n",
       "      <td>train</td>\n",
       "    </tr>\n",
       "    <tr>\n",
       "      <th>2</th>\n",
       "      <td>../data/prepare_data/labels/12 (60).txt</td>\n",
       "      <td>../data/clean_images94/12 (60).jpg</td>\n",
       "      <td>12 (60)_label</td>\n",
       "      <td>12</td>\n",
       "      <td>60</td>\n",
       "      <td>0</td>\n",
       "      <td>1</td>\n",
       "      <td>0</td>\n",
       "      <td>0</td>\n",
       "      <td>0</td>\n",
       "      <td>train</td>\n",
       "    </tr>\n",
       "    <tr>\n",
       "      <th>3</th>\n",
       "      <td>../data/prepare_data/labels/4 (1).txt</td>\n",
       "      <td>../data/clean_images94/4 (1).jpg</td>\n",
       "      <td>4 (1)_label</td>\n",
       "      <td>4</td>\n",
       "      <td>1</td>\n",
       "      <td>0</td>\n",
       "      <td>0</td>\n",
       "      <td>1</td>\n",
       "      <td>0</td>\n",
       "      <td>1</td>\n",
       "      <td>train</td>\n",
       "    </tr>\n",
       "    <tr>\n",
       "      <th>4</th>\n",
       "      <td>../data/prepare_data/labels/7 (148).txt</td>\n",
       "      <td>../data/clean_images94/7 (148).jpg</td>\n",
       "      <td>7 (148)_label</td>\n",
       "      <td>7</td>\n",
       "      <td>148</td>\n",
       "      <td>6</td>\n",
       "      <td>0</td>\n",
       "      <td>2</td>\n",
       "      <td>0</td>\n",
       "      <td>0</td>\n",
       "      <td>train</td>\n",
       "    </tr>\n",
       "    <tr>\n",
       "      <th>...</th>\n",
       "      <td>...</td>\n",
       "      <td>...</td>\n",
       "      <td>...</td>\n",
       "      <td>...</td>\n",
       "      <td>...</td>\n",
       "      <td>...</td>\n",
       "      <td>...</td>\n",
       "      <td>...</td>\n",
       "      <td>...</td>\n",
       "      <td>...</td>\n",
       "      <td>...</td>\n",
       "    </tr>\n",
       "    <tr>\n",
       "      <th>172</th>\n",
       "      <td>../data/prepare_data/labels/5 (105).txt</td>\n",
       "      <td>../data/clean_images94/5 (105).jpg</td>\n",
       "      <td>5 (105)_label</td>\n",
       "      <td>5</td>\n",
       "      <td>105</td>\n",
       "      <td>0</td>\n",
       "      <td>1</td>\n",
       "      <td>0</td>\n",
       "      <td>0</td>\n",
       "      <td>0</td>\n",
       "      <td>test</td>\n",
       "    </tr>\n",
       "    <tr>\n",
       "      <th>173</th>\n",
       "      <td>../data/prepare_data/labels/12 (42).txt</td>\n",
       "      <td>../data/clean_images94/12 (42).jpg</td>\n",
       "      <td>12 (42)_label</td>\n",
       "      <td>12</td>\n",
       "      <td>42</td>\n",
       "      <td>0</td>\n",
       "      <td>0</td>\n",
       "      <td>0</td>\n",
       "      <td>0</td>\n",
       "      <td>0</td>\n",
       "      <td>train</td>\n",
       "    </tr>\n",
       "    <tr>\n",
       "      <th>174</th>\n",
       "      <td>../data/prepare_data/labels/1 (8).txt</td>\n",
       "      <td>../data/clean_images94/1 (8).jpg</td>\n",
       "      <td>1 (8)_label</td>\n",
       "      <td>1</td>\n",
       "      <td>8</td>\n",
       "      <td>7</td>\n",
       "      <td>0</td>\n",
       "      <td>0</td>\n",
       "      <td>0</td>\n",
       "      <td>0</td>\n",
       "      <td>train</td>\n",
       "    </tr>\n",
       "    <tr>\n",
       "      <th>175</th>\n",
       "      <td>../data/prepare_data/labels/5 (183).txt</td>\n",
       "      <td>../data/clean_images94/5 (183).jpg</td>\n",
       "      <td>5 (183)_label</td>\n",
       "      <td>5</td>\n",
       "      <td>183</td>\n",
       "      <td>2</td>\n",
       "      <td>1</td>\n",
       "      <td>0</td>\n",
       "      <td>0</td>\n",
       "      <td>0</td>\n",
       "      <td>test</td>\n",
       "    </tr>\n",
       "    <tr>\n",
       "      <th>176</th>\n",
       "      <td>../data/prepare_data/labels/7 (244).txt</td>\n",
       "      <td>../data/clean_images94/7 (244).jpg</td>\n",
       "      <td>7 (244)_label</td>\n",
       "      <td>7</td>\n",
       "      <td>244</td>\n",
       "      <td>4</td>\n",
       "      <td>1</td>\n",
       "      <td>1</td>\n",
       "      <td>0</td>\n",
       "      <td>0</td>\n",
       "      <td>train</td>\n",
       "    </tr>\n",
       "  </tbody>\n",
       "</table>\n",
       "<p>177 rows × 11 columns</p>\n",
       "</div>"
      ]
     },
     "execution_count": 64,
     "metadata": {},
     "output_type": "execute_result"
    }
   ],
   "execution_count": 64
  },
  {
   "metadata": {
    "ExecuteTime": {
     "end_time": "2024-06-15T08:56:26.718285Z",
     "start_time": "2024-06-15T08:56:26.703699Z"
    }
   },
   "cell_type": "code",
   "source": [
    "path_to_save_yolov = r'../data/yolov_data/data94'\n",
    "\n",
    "create_folder(os.path.join(path_to_save_yolov))\n",
    "create_folder(os.path.join(path_to_save_yolov, \"labels\"))\n",
    "create_folder(os.path.join(path_to_save_yolov, \"labels\", \"train\"))\n",
    "create_folder(os.path.join(path_to_save_yolov, \"labels\", \"test\"))\n",
    "create_folder(os.path.join(path_to_save_yolov, \"labels\", \"val\"))\n",
    "\n",
    "create_folder(os.path.join(path_to_save_yolov, \"images\"))\n",
    "create_folder(os.path.join(path_to_save_yolov, \"images\", \"train\"))\n",
    "create_folder(os.path.join(path_to_save_yolov, \"images\", \"test\"))\n",
    "create_folder(os.path.join(path_to_save_yolov, \"images\", \"val\"))\n"
   ],
   "id": "5f90a58ed55024fb",
   "outputs": [],
   "execution_count": 65
  },
  {
   "metadata": {
    "ExecuteTime": {
     "end_time": "2024-06-15T08:56:27.180706Z",
     "start_time": "2024-06-15T08:56:27.172097Z"
    }
   },
   "cell_type": "code",
   "source": [
    "def create_yolov_dataset(data: pd.DataFrame, path_to_save: str):\n",
    "    for i, row in data.iterrows():\n",
    "        train_test = row['train_test']\n",
    "                \n",
    "        name = row['name']\n",
    "        \n",
    "        path_to_label = row['path_to_label']\n",
    "        path_to_image = path_to_label.replace('labels', 'images').replace('.txt', '.jpg')\n",
    "\n",
    "\n",
    "        shutil.copy(path_to_image, os.path.join(path_to_save, 'images', train_test, name + '.jpg'))\n",
    "        shutil.copy(path_to_label, os.path.join(path_to_save, 'labels', train_test, name + '.txt'))\n",
    "        \n",
    "        if train_test == 'test':\n",
    "            shutil.copy(path_to_image, os.path.join(path_to_save, 'images', 'val', name + '.jpg'))\n",
    "            shutil.copy(path_to_label, os.path.join(path_to_save, 'labels', 'val', name + '.txt'))\n",
    "\n"
   ],
   "id": "93afb5166404a8ec",
   "outputs": [],
   "execution_count": 66
  },
  {
   "metadata": {
    "ExecuteTime": {
     "end_time": "2024-06-15T08:56:31.586145Z",
     "start_time": "2024-06-15T08:56:28.899266Z"
    }
   },
   "cell_type": "code",
   "source": "create_yolov_dataset(stat, path_to_save_yolov)",
   "id": "348f907004067f93",
   "outputs": [],
   "execution_count": 67
  },
  {
   "metadata": {},
   "cell_type": "code",
   "outputs": [],
   "execution_count": null,
   "source": "",
   "id": "ee548aee2846c385"
  }
 ],
 "metadata": {
  "kernelspec": {
   "display_name": "Python 3",
   "language": "python",
   "name": "python3"
  },
  "language_info": {
   "codemirror_mode": {
    "name": "ipython",
    "version": 2
   },
   "file_extension": ".py",
   "mimetype": "text/x-python",
   "name": "python",
   "nbconvert_exporter": "python",
   "pygments_lexer": "ipython2",
   "version": "2.7.6"
  }
 },
 "nbformat": 4,
 "nbformat_minor": 5
}
