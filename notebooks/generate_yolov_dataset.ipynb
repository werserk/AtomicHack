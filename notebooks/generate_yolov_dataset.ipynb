{
 "cells": [
  {
   "cell_type": "code",
   "id": "initial_id",
   "metadata": {
    "collapsed": true,
    "ExecuteTime": {
     "end_time": "2024-06-15T07:56:56.249173Z",
     "start_time": "2024-06-15T07:56:56.243268Z"
    }
   },
   "source": [
    "import os\n",
    "\n",
    "import pandas as pd\n",
    "\n",
    "from prepare_data.statistics import calculate_stats\n",
    "from prepare_data.utils import create_folder\n",
    "\n",
    "from sklearn.model_selection import train_test_split\n",
    "import shutil"
   ],
   "outputs": [],
   "execution_count": 15
  },
  {
   "metadata": {
    "ExecuteTime": {
     "end_time": "2024-06-15T07:54:46.322204Z",
     "start_time": "2024-06-15T07:54:46.319652Z"
    }
   },
   "cell_type": "code",
   "source": [
    "data_dir = '../data/cleared_images_max'\n",
    "labels_dir = '../data/prepare_data/labels'\n",
    "save_dir = '../data/yolov_data'"
   ],
   "id": "87cd1f865f44cd0c",
   "outputs": [],
   "execution_count": 2
  },
  {
   "metadata": {},
   "cell_type": "markdown",
   "source": "## Calculate Statistics for sep train - test - val",
   "id": "2bf1feb4036b5af3"
  },
  {
   "metadata": {
    "ExecuteTime": {
     "end_time": "2024-06-15T07:54:46.351682Z",
     "start_time": "2024-06-15T07:54:46.323212Z"
    }
   },
   "cell_type": "code",
   "source": [
    "df = pd.DataFrame(columns=['file_name', 'path_to_image', 'path_to_label'])\n",
    "for root, dirs, files in os.walk(data_dir):\n",
    "    for file in files:\n",
    "        path_to_image = os.path.join(root, file.replace('_label.', '.'))\n",
    "        path_to_label = os.path.join(labels_dir, file.replace('_label.', '.').replace('jpg', 'txt'))\n",
    "        df = pd.concat((df, pd.DataFrame({'file_name': file.split('.')[0],\n",
    "                                          'path_to_image': path_to_image,\n",
    "                                          'path_to_label': path_to_label}, index=[0])), ignore_index=True)"
   ],
   "id": "7dea1d91dfcab0be",
   "outputs": [],
   "execution_count": 3
  },
  {
   "metadata": {
    "ExecuteTime": {
     "end_time": "2024-06-15T07:54:46.364448Z",
     "start_time": "2024-06-15T07:54:46.353293Z"
    }
   },
   "cell_type": "code",
   "source": "df",
   "id": "ba99349a09b07cc1",
   "outputs": [
    {
     "data": {
      "text/plain": [
       "        file_name                           path_to_image  \\\n",
       "0     8 (2)_label    ../data/cleared_images_max/8 (2).jpg   \n",
       "1    12 (3)_label   ../data/cleared_images_max/12 (3).jpg   \n",
       "2     4 (1)_label    ../data/cleared_images_max/4 (1).jpg   \n",
       "3   4 (137)_label  ../data/cleared_images_max/4 (137).jpg   \n",
       "4   5 (163)_label  ../data/cleared_images_max/5 (163).jpg   \n",
       "..            ...                                     ...   \n",
       "92  7 (194)_label  ../data/cleared_images_max/7 (194).jpg   \n",
       "93  5 (124)_label  ../data/cleared_images_max/5 (124).jpg   \n",
       "94    1 (8)_label    ../data/cleared_images_max/1 (8).jpg   \n",
       "95  11 (60)_label  ../data/cleared_images_max/11 (60).jpg   \n",
       "96  7 (259)_label  ../data/cleared_images_max/7 (259).jpg   \n",
       "\n",
       "                              path_to_label  \n",
       "0     ../data/prepare_data/labels/8 (2).txt  \n",
       "1    ../data/prepare_data/labels/12 (3).txt  \n",
       "2     ../data/prepare_data/labels/4 (1).txt  \n",
       "3   ../data/prepare_data/labels/4 (137).txt  \n",
       "4   ../data/prepare_data/labels/5 (163).txt  \n",
       "..                                      ...  \n",
       "92  ../data/prepare_data/labels/7 (194).txt  \n",
       "93  ../data/prepare_data/labels/5 (124).txt  \n",
       "94    ../data/prepare_data/labels/1 (8).txt  \n",
       "95  ../data/prepare_data/labels/11 (60).txt  \n",
       "96  ../data/prepare_data/labels/7 (259).txt  \n",
       "\n",
       "[97 rows x 3 columns]"
      ],
      "text/html": [
       "<div>\n",
       "<style scoped>\n",
       "    .dataframe tbody tr th:only-of-type {\n",
       "        vertical-align: middle;\n",
       "    }\n",
       "\n",
       "    .dataframe tbody tr th {\n",
       "        vertical-align: top;\n",
       "    }\n",
       "\n",
       "    .dataframe thead th {\n",
       "        text-align: right;\n",
       "    }\n",
       "</style>\n",
       "<table border=\"1\" class=\"dataframe\">\n",
       "  <thead>\n",
       "    <tr style=\"text-align: right;\">\n",
       "      <th></th>\n",
       "      <th>file_name</th>\n",
       "      <th>path_to_image</th>\n",
       "      <th>path_to_label</th>\n",
       "    </tr>\n",
       "  </thead>\n",
       "  <tbody>\n",
       "    <tr>\n",
       "      <th>0</th>\n",
       "      <td>8 (2)_label</td>\n",
       "      <td>../data/cleared_images_max/8 (2).jpg</td>\n",
       "      <td>../data/prepare_data/labels/8 (2).txt</td>\n",
       "    </tr>\n",
       "    <tr>\n",
       "      <th>1</th>\n",
       "      <td>12 (3)_label</td>\n",
       "      <td>../data/cleared_images_max/12 (3).jpg</td>\n",
       "      <td>../data/prepare_data/labels/12 (3).txt</td>\n",
       "    </tr>\n",
       "    <tr>\n",
       "      <th>2</th>\n",
       "      <td>4 (1)_label</td>\n",
       "      <td>../data/cleared_images_max/4 (1).jpg</td>\n",
       "      <td>../data/prepare_data/labels/4 (1).txt</td>\n",
       "    </tr>\n",
       "    <tr>\n",
       "      <th>3</th>\n",
       "      <td>4 (137)_label</td>\n",
       "      <td>../data/cleared_images_max/4 (137).jpg</td>\n",
       "      <td>../data/prepare_data/labels/4 (137).txt</td>\n",
       "    </tr>\n",
       "    <tr>\n",
       "      <th>4</th>\n",
       "      <td>5 (163)_label</td>\n",
       "      <td>../data/cleared_images_max/5 (163).jpg</td>\n",
       "      <td>../data/prepare_data/labels/5 (163).txt</td>\n",
       "    </tr>\n",
       "    <tr>\n",
       "      <th>...</th>\n",
       "      <td>...</td>\n",
       "      <td>...</td>\n",
       "      <td>...</td>\n",
       "    </tr>\n",
       "    <tr>\n",
       "      <th>92</th>\n",
       "      <td>7 (194)_label</td>\n",
       "      <td>../data/cleared_images_max/7 (194).jpg</td>\n",
       "      <td>../data/prepare_data/labels/7 (194).txt</td>\n",
       "    </tr>\n",
       "    <tr>\n",
       "      <th>93</th>\n",
       "      <td>5 (124)_label</td>\n",
       "      <td>../data/cleared_images_max/5 (124).jpg</td>\n",
       "      <td>../data/prepare_data/labels/5 (124).txt</td>\n",
       "    </tr>\n",
       "    <tr>\n",
       "      <th>94</th>\n",
       "      <td>1 (8)_label</td>\n",
       "      <td>../data/cleared_images_max/1 (8).jpg</td>\n",
       "      <td>../data/prepare_data/labels/1 (8).txt</td>\n",
       "    </tr>\n",
       "    <tr>\n",
       "      <th>95</th>\n",
       "      <td>11 (60)_label</td>\n",
       "      <td>../data/cleared_images_max/11 (60).jpg</td>\n",
       "      <td>../data/prepare_data/labels/11 (60).txt</td>\n",
       "    </tr>\n",
       "    <tr>\n",
       "      <th>96</th>\n",
       "      <td>7 (259)_label</td>\n",
       "      <td>../data/cleared_images_max/7 (259).jpg</td>\n",
       "      <td>../data/prepare_data/labels/7 (259).txt</td>\n",
       "    </tr>\n",
       "  </tbody>\n",
       "</table>\n",
       "<p>97 rows × 3 columns</p>\n",
       "</div>"
      ]
     },
     "execution_count": 4,
     "metadata": {},
     "output_type": "execute_result"
    }
   ],
   "execution_count": 4
  },
  {
   "metadata": {
    "ExecuteTime": {
     "end_time": "2024-06-15T07:54:47.512744Z",
     "start_time": "2024-06-15T07:54:47.407762Z"
    }
   },
   "cell_type": "code",
   "source": "stat = calculate_stats(df)",
   "id": "a7eb76d146d8f65b",
   "outputs": [],
   "execution_count": 5
  },
  {
   "metadata": {
    "ExecuteTime": {
     "end_time": "2024-06-15T07:54:48.057917Z",
     "start_time": "2024-06-15T07:54:48.035182Z"
    }
   },
   "cell_type": "code",
   "source": "stat.groupby('video_id').sum()[['pat0', 'pat1', 'pat2', 'pat3', 'pat4']]",
   "id": "5f34615f78712341",
   "outputs": [
    {
     "data": {
      "text/plain": [
       "         pat0 pat1 pat2 pat3 pat4\n",
       "video_id                         \n",
       "1          31    2    3    0    0\n",
       "3           2    0    1    1    1\n",
       "4          23    9   14    4    4\n",
       "5          58    4   17    8    5\n",
       "6           0    0    5    0    0\n",
       "7          71    7   26   16   20\n",
       "8           0    0    8    4    0\n",
       "9           0    1    4    5    0\n",
       "11          0    0    4    0    0\n",
       "12          0   27    0    0    2"
      ],
      "text/html": [
       "<div>\n",
       "<style scoped>\n",
       "    .dataframe tbody tr th:only-of-type {\n",
       "        vertical-align: middle;\n",
       "    }\n",
       "\n",
       "    .dataframe tbody tr th {\n",
       "        vertical-align: top;\n",
       "    }\n",
       "\n",
       "    .dataframe thead th {\n",
       "        text-align: right;\n",
       "    }\n",
       "</style>\n",
       "<table border=\"1\" class=\"dataframe\">\n",
       "  <thead>\n",
       "    <tr style=\"text-align: right;\">\n",
       "      <th></th>\n",
       "      <th>pat0</th>\n",
       "      <th>pat1</th>\n",
       "      <th>pat2</th>\n",
       "      <th>pat3</th>\n",
       "      <th>pat4</th>\n",
       "    </tr>\n",
       "    <tr>\n",
       "      <th>video_id</th>\n",
       "      <th></th>\n",
       "      <th></th>\n",
       "      <th></th>\n",
       "      <th></th>\n",
       "      <th></th>\n",
       "    </tr>\n",
       "  </thead>\n",
       "  <tbody>\n",
       "    <tr>\n",
       "      <th>1</th>\n",
       "      <td>31</td>\n",
       "      <td>2</td>\n",
       "      <td>3</td>\n",
       "      <td>0</td>\n",
       "      <td>0</td>\n",
       "    </tr>\n",
       "    <tr>\n",
       "      <th>3</th>\n",
       "      <td>2</td>\n",
       "      <td>0</td>\n",
       "      <td>1</td>\n",
       "      <td>1</td>\n",
       "      <td>1</td>\n",
       "    </tr>\n",
       "    <tr>\n",
       "      <th>4</th>\n",
       "      <td>23</td>\n",
       "      <td>9</td>\n",
       "      <td>14</td>\n",
       "      <td>4</td>\n",
       "      <td>4</td>\n",
       "    </tr>\n",
       "    <tr>\n",
       "      <th>5</th>\n",
       "      <td>58</td>\n",
       "      <td>4</td>\n",
       "      <td>17</td>\n",
       "      <td>8</td>\n",
       "      <td>5</td>\n",
       "    </tr>\n",
       "    <tr>\n",
       "      <th>6</th>\n",
       "      <td>0</td>\n",
       "      <td>0</td>\n",
       "      <td>5</td>\n",
       "      <td>0</td>\n",
       "      <td>0</td>\n",
       "    </tr>\n",
       "    <tr>\n",
       "      <th>7</th>\n",
       "      <td>71</td>\n",
       "      <td>7</td>\n",
       "      <td>26</td>\n",
       "      <td>16</td>\n",
       "      <td>20</td>\n",
       "    </tr>\n",
       "    <tr>\n",
       "      <th>8</th>\n",
       "      <td>0</td>\n",
       "      <td>0</td>\n",
       "      <td>8</td>\n",
       "      <td>4</td>\n",
       "      <td>0</td>\n",
       "    </tr>\n",
       "    <tr>\n",
       "      <th>9</th>\n",
       "      <td>0</td>\n",
       "      <td>1</td>\n",
       "      <td>4</td>\n",
       "      <td>5</td>\n",
       "      <td>0</td>\n",
       "    </tr>\n",
       "    <tr>\n",
       "      <th>11</th>\n",
       "      <td>0</td>\n",
       "      <td>0</td>\n",
       "      <td>4</td>\n",
       "      <td>0</td>\n",
       "      <td>0</td>\n",
       "    </tr>\n",
       "    <tr>\n",
       "      <th>12</th>\n",
       "      <td>0</td>\n",
       "      <td>27</td>\n",
       "      <td>0</td>\n",
       "      <td>0</td>\n",
       "      <td>2</td>\n",
       "    </tr>\n",
       "  </tbody>\n",
       "</table>\n",
       "</div>"
      ]
     },
     "execution_count": 6,
     "metadata": {},
     "output_type": "execute_result"
    }
   ],
   "execution_count": 6
  },
  {
   "metadata": {},
   "cell_type": "markdown",
   "source": "Труба - 12, 11, 9, 8, 6, ",
   "id": "739e76c344dd2059"
  },
  {
   "metadata": {
    "ExecuteTime": {
     "end_time": "2024-06-15T07:54:48.927906Z",
     "start_time": "2024-06-15T07:54:48.924938Z"
    }
   },
   "cell_type": "code",
   "source": [
    "tube = [12, 11, 9, 8, 6]\n",
    "plane = [1, 3, 4, 5, 7]"
   ],
   "id": "a5dfa32e5664d92b",
   "outputs": [],
   "execution_count": 7
  },
  {
   "metadata": {
    "ExecuteTime": {
     "end_time": "2024-06-15T07:54:49.236590Z",
     "start_time": "2024-06-15T07:54:49.227589Z"
    }
   },
   "cell_type": "code",
   "source": [
    "train_tube, test_tube = train_test_split(tube, test_size=0.2, random_state=43, shuffle=True)\n",
    "train_plane, test_plane = train_test_split(plane, test_size=0.2, random_state=43, shuffle=True)\n",
    "\n",
    "train = train_plane + train_tube\n",
    "test = test_plane + test_tube\n"
   ],
   "id": "8b9b498b561a8e74",
   "outputs": [],
   "execution_count": 8
  },
  {
   "metadata": {
    "ExecuteTime": {
     "end_time": "2024-06-15T07:56:00.302322Z",
     "start_time": "2024-06-15T07:56:00.295460Z"
    }
   },
   "cell_type": "code",
   "source": "test",
   "id": "efe0c9029ea48c50",
   "outputs": [
    {
     "data": {
      "text/plain": [
       "[5, 8]"
      ]
     },
     "execution_count": 14,
     "metadata": {},
     "output_type": "execute_result"
    }
   ],
   "execution_count": 14
  },
  {
   "metadata": {
    "ExecuteTime": {
     "end_time": "2024-06-15T07:54:50.260051Z",
     "start_time": "2024-06-15T07:54:50.243899Z"
    }
   },
   "cell_type": "code",
   "source": "stat[stat['video_id'].isin(test)].groupby('video_id').sum()[['pat0', 'pat1', 'pat2', 'pat3', 'pat4']].sum()\n",
   "id": "c81c400ea615787d",
   "outputs": [
    {
     "data": {
      "text/plain": [
       "pat0    58\n",
       "pat1     4\n",
       "pat2    25\n",
       "pat3    12\n",
       "pat4     5\n",
       "dtype: object"
      ]
     },
     "execution_count": 9,
     "metadata": {},
     "output_type": "execute_result"
    }
   ],
   "execution_count": 9
  },
  {
   "metadata": {
    "ExecuteTime": {
     "end_time": "2024-06-15T07:54:50.873076Z",
     "start_time": "2024-06-15T07:54:50.866039Z"
    }
   },
   "cell_type": "code",
   "source": [
    "stat[stat['video_id'].isin(train)].groupby('video_id').sum()[['pat0', 'pat1', 'pat2', 'pat3', 'pat4']].sum()\n",
    "    "
   ],
   "id": "5824f76e970876d",
   "outputs": [
    {
     "data": {
      "text/plain": [
       "pat0    127\n",
       "pat1     46\n",
       "pat2     57\n",
       "pat3     26\n",
       "pat4     27\n",
       "dtype: object"
      ]
     },
     "execution_count": 10,
     "metadata": {},
     "output_type": "execute_result"
    }
   ],
   "execution_count": 10
  },
  {
   "metadata": {
    "ExecuteTime": {
     "end_time": "2024-06-15T07:55:45.068173Z",
     "start_time": "2024-06-15T07:55:45.064077Z"
    }
   },
   "cell_type": "code",
   "source": "stat['train_test'] = stat['video_id'].map(lambda x: 'train' if x in train else 'test')",
   "id": "fe89cb2fb851b455",
   "outputs": [],
   "execution_count": 12
  },
  {
   "metadata": {
    "ExecuteTime": {
     "end_time": "2024-06-15T07:55:51.635203Z",
     "start_time": "2024-06-15T07:55:51.612473Z"
    }
   },
   "cell_type": "code",
   "source": "stat",
   "id": "882958710f6c978e",
   "outputs": [
    {
     "data": {
      "text/plain": [
       "                              path_to_label  \\\n",
       "0     ../data/prepare_data/labels/8 (2).txt   \n",
       "1    ../data/prepare_data/labels/12 (3).txt   \n",
       "2     ../data/prepare_data/labels/4 (1).txt   \n",
       "3   ../data/prepare_data/labels/4 (137).txt   \n",
       "4   ../data/prepare_data/labels/5 (163).txt   \n",
       "..                                      ...   \n",
       "92  ../data/prepare_data/labels/7 (194).txt   \n",
       "93  ../data/prepare_data/labels/5 (124).txt   \n",
       "94    ../data/prepare_data/labels/1 (8).txt   \n",
       "95  ../data/prepare_data/labels/11 (60).txt   \n",
       "96  ../data/prepare_data/labels/7 (259).txt   \n",
       "\n",
       "                             path_to_image           name video_id frame_id  \\\n",
       "0     ../data/cleared_images_max/8 (2).jpg    8 (2)_label        8        2   \n",
       "1    ../data/cleared_images_max/12 (3).jpg   12 (3)_label       12        3   \n",
       "2     ../data/cleared_images_max/4 (1).jpg    4 (1)_label        4        1   \n",
       "3   ../data/cleared_images_max/4 (137).jpg  4 (137)_label        4      137   \n",
       "4   ../data/cleared_images_max/5 (163).jpg  5 (163)_label        5      163   \n",
       "..                                     ...            ...      ...      ...   \n",
       "92  ../data/cleared_images_max/7 (194).jpg  7 (194)_label        7      194   \n",
       "93  ../data/cleared_images_max/5 (124).jpg  5 (124)_label        5      124   \n",
       "94    ../data/cleared_images_max/1 (8).jpg    1 (8)_label        1        8   \n",
       "95  ../data/cleared_images_max/11 (60).jpg  11 (60)_label       11       60   \n",
       "96  ../data/cleared_images_max/7 (259).jpg  7 (259)_label        7      259   \n",
       "\n",
       "   pat0 pat1 pat2 pat3 pat4 train_test  \n",
       "0     0    0    2    1    0       test  \n",
       "1     0    0    0    0    0      train  \n",
       "2     0    0    1    0    1      train  \n",
       "3     1    0    1    0    0      train  \n",
       "4    10    2    2    0    1       test  \n",
       "..  ...  ...  ...  ...  ...        ...  \n",
       "92    0    0    1    0    0      train  \n",
       "93    0    0    1    0    0       test  \n",
       "94    7    0    0    0    0      train  \n",
       "95    0    0    1    0    0      train  \n",
       "96    2    0    1    0    1      train  \n",
       "\n",
       "[97 rows x 11 columns]"
      ],
      "text/html": [
       "<div>\n",
       "<style scoped>\n",
       "    .dataframe tbody tr th:only-of-type {\n",
       "        vertical-align: middle;\n",
       "    }\n",
       "\n",
       "    .dataframe tbody tr th {\n",
       "        vertical-align: top;\n",
       "    }\n",
       "\n",
       "    .dataframe thead th {\n",
       "        text-align: right;\n",
       "    }\n",
       "</style>\n",
       "<table border=\"1\" class=\"dataframe\">\n",
       "  <thead>\n",
       "    <tr style=\"text-align: right;\">\n",
       "      <th></th>\n",
       "      <th>path_to_label</th>\n",
       "      <th>path_to_image</th>\n",
       "      <th>name</th>\n",
       "      <th>video_id</th>\n",
       "      <th>frame_id</th>\n",
       "      <th>pat0</th>\n",
       "      <th>pat1</th>\n",
       "      <th>pat2</th>\n",
       "      <th>pat3</th>\n",
       "      <th>pat4</th>\n",
       "      <th>train_test</th>\n",
       "    </tr>\n",
       "  </thead>\n",
       "  <tbody>\n",
       "    <tr>\n",
       "      <th>0</th>\n",
       "      <td>../data/prepare_data/labels/8 (2).txt</td>\n",
       "      <td>../data/cleared_images_max/8 (2).jpg</td>\n",
       "      <td>8 (2)_label</td>\n",
       "      <td>8</td>\n",
       "      <td>2</td>\n",
       "      <td>0</td>\n",
       "      <td>0</td>\n",
       "      <td>2</td>\n",
       "      <td>1</td>\n",
       "      <td>0</td>\n",
       "      <td>test</td>\n",
       "    </tr>\n",
       "    <tr>\n",
       "      <th>1</th>\n",
       "      <td>../data/prepare_data/labels/12 (3).txt</td>\n",
       "      <td>../data/cleared_images_max/12 (3).jpg</td>\n",
       "      <td>12 (3)_label</td>\n",
       "      <td>12</td>\n",
       "      <td>3</td>\n",
       "      <td>0</td>\n",
       "      <td>0</td>\n",
       "      <td>0</td>\n",
       "      <td>0</td>\n",
       "      <td>0</td>\n",
       "      <td>train</td>\n",
       "    </tr>\n",
       "    <tr>\n",
       "      <th>2</th>\n",
       "      <td>../data/prepare_data/labels/4 (1).txt</td>\n",
       "      <td>../data/cleared_images_max/4 (1).jpg</td>\n",
       "      <td>4 (1)_label</td>\n",
       "      <td>4</td>\n",
       "      <td>1</td>\n",
       "      <td>0</td>\n",
       "      <td>0</td>\n",
       "      <td>1</td>\n",
       "      <td>0</td>\n",
       "      <td>1</td>\n",
       "      <td>train</td>\n",
       "    </tr>\n",
       "    <tr>\n",
       "      <th>3</th>\n",
       "      <td>../data/prepare_data/labels/4 (137).txt</td>\n",
       "      <td>../data/cleared_images_max/4 (137).jpg</td>\n",
       "      <td>4 (137)_label</td>\n",
       "      <td>4</td>\n",
       "      <td>137</td>\n",
       "      <td>1</td>\n",
       "      <td>0</td>\n",
       "      <td>1</td>\n",
       "      <td>0</td>\n",
       "      <td>0</td>\n",
       "      <td>train</td>\n",
       "    </tr>\n",
       "    <tr>\n",
       "      <th>4</th>\n",
       "      <td>../data/prepare_data/labels/5 (163).txt</td>\n",
       "      <td>../data/cleared_images_max/5 (163).jpg</td>\n",
       "      <td>5 (163)_label</td>\n",
       "      <td>5</td>\n",
       "      <td>163</td>\n",
       "      <td>10</td>\n",
       "      <td>2</td>\n",
       "      <td>2</td>\n",
       "      <td>0</td>\n",
       "      <td>1</td>\n",
       "      <td>test</td>\n",
       "    </tr>\n",
       "    <tr>\n",
       "      <th>...</th>\n",
       "      <td>...</td>\n",
       "      <td>...</td>\n",
       "      <td>...</td>\n",
       "      <td>...</td>\n",
       "      <td>...</td>\n",
       "      <td>...</td>\n",
       "      <td>...</td>\n",
       "      <td>...</td>\n",
       "      <td>...</td>\n",
       "      <td>...</td>\n",
       "      <td>...</td>\n",
       "    </tr>\n",
       "    <tr>\n",
       "      <th>92</th>\n",
       "      <td>../data/prepare_data/labels/7 (194).txt</td>\n",
       "      <td>../data/cleared_images_max/7 (194).jpg</td>\n",
       "      <td>7 (194)_label</td>\n",
       "      <td>7</td>\n",
       "      <td>194</td>\n",
       "      <td>0</td>\n",
       "      <td>0</td>\n",
       "      <td>1</td>\n",
       "      <td>0</td>\n",
       "      <td>0</td>\n",
       "      <td>train</td>\n",
       "    </tr>\n",
       "    <tr>\n",
       "      <th>93</th>\n",
       "      <td>../data/prepare_data/labels/5 (124).txt</td>\n",
       "      <td>../data/cleared_images_max/5 (124).jpg</td>\n",
       "      <td>5 (124)_label</td>\n",
       "      <td>5</td>\n",
       "      <td>124</td>\n",
       "      <td>0</td>\n",
       "      <td>0</td>\n",
       "      <td>1</td>\n",
       "      <td>0</td>\n",
       "      <td>0</td>\n",
       "      <td>test</td>\n",
       "    </tr>\n",
       "    <tr>\n",
       "      <th>94</th>\n",
       "      <td>../data/prepare_data/labels/1 (8).txt</td>\n",
       "      <td>../data/cleared_images_max/1 (8).jpg</td>\n",
       "      <td>1 (8)_label</td>\n",
       "      <td>1</td>\n",
       "      <td>8</td>\n",
       "      <td>7</td>\n",
       "      <td>0</td>\n",
       "      <td>0</td>\n",
       "      <td>0</td>\n",
       "      <td>0</td>\n",
       "      <td>train</td>\n",
       "    </tr>\n",
       "    <tr>\n",
       "      <th>95</th>\n",
       "      <td>../data/prepare_data/labels/11 (60).txt</td>\n",
       "      <td>../data/cleared_images_max/11 (60).jpg</td>\n",
       "      <td>11 (60)_label</td>\n",
       "      <td>11</td>\n",
       "      <td>60</td>\n",
       "      <td>0</td>\n",
       "      <td>0</td>\n",
       "      <td>1</td>\n",
       "      <td>0</td>\n",
       "      <td>0</td>\n",
       "      <td>train</td>\n",
       "    </tr>\n",
       "    <tr>\n",
       "      <th>96</th>\n",
       "      <td>../data/prepare_data/labels/7 (259).txt</td>\n",
       "      <td>../data/cleared_images_max/7 (259).jpg</td>\n",
       "      <td>7 (259)_label</td>\n",
       "      <td>7</td>\n",
       "      <td>259</td>\n",
       "      <td>2</td>\n",
       "      <td>0</td>\n",
       "      <td>1</td>\n",
       "      <td>0</td>\n",
       "      <td>1</td>\n",
       "      <td>train</td>\n",
       "    </tr>\n",
       "  </tbody>\n",
       "</table>\n",
       "<p>97 rows × 11 columns</p>\n",
       "</div>"
      ]
     },
     "execution_count": 13,
     "metadata": {},
     "output_type": "execute_result"
    }
   ],
   "execution_count": 13
  },
  {
   "metadata": {
    "ExecuteTime": {
     "end_time": "2024-06-15T08:02:46.016265Z",
     "start_time": "2024-06-15T08:02:46.006591Z"
    }
   },
   "cell_type": "code",
   "source": [
    "path_to_save_yolov = r'../data/yolov_data/wersek_yolov'\n",
    "\n",
    "create_folder(os.path.join(path_to_save_yolov))\n",
    "create_folder(os.path.join(path_to_save_yolov, \"labels\"))\n",
    "create_folder(os.path.join(path_to_save_yolov, \"labels\", \"train\"))\n",
    "create_folder(os.path.join(path_to_save_yolov, \"labels\", \"test\"))\n",
    "create_folder(os.path.join(path_to_save_yolov, \"labels\", \"val\"))\n",
    "\n",
    "create_folder(os.path.join(path_to_save_yolov, \"images\"))\n",
    "create_folder(os.path.join(path_to_save_yolov, \"images\", \"train\"))\n",
    "create_folder(os.path.join(path_to_save_yolov, \"images\", \"test\"))\n",
    "create_folder(os.path.join(path_to_save_yolov, \"images\", \"val\"))\n"
   ],
   "id": "5f90a58ed55024fb",
   "outputs": [],
   "execution_count": 18
  },
  {
   "metadata": {
    "ExecuteTime": {
     "end_time": "2024-06-15T08:02:46.507888Z",
     "start_time": "2024-06-15T08:02:46.502512Z"
    }
   },
   "cell_type": "code",
   "source": [
    "def create_yolov_dataset(data: pd.DataFrame, path_to_save: str):\n",
    "    for i, row in data.iterrows():\n",
    "        train_test = row['train_test']\n",
    "                \n",
    "        name = row['name']\n",
    "        \n",
    "        path_to_label = row['path_to_label']\n",
    "        path_to_image = path_to_label.replace('labels', 'images').replace('.txt', '.jpg')\n",
    "\n",
    "\n",
    "        shutil.copy(path_to_image, os.path.join(path_to_save, 'images', train_test, name + '.jpg'))\n",
    "        shutil.copy(path_to_label, os.path.join(path_to_save, 'labels', train_test, name + '.txt'))\n",
    "        \n",
    "        if train_test == 'test':\n",
    "            shutil.copy(path_to_image, os.path.join(path_to_save, 'images', 'val', name + '.jpg'))\n",
    "            shutil.copy(path_to_label, os.path.join(path_to_save, 'labels', 'val', name + '.txt'))\n",
    "\n"
   ],
   "id": "93afb5166404a8ec",
   "outputs": [],
   "execution_count": 19
  },
  {
   "metadata": {
    "ExecuteTime": {
     "end_time": "2024-06-15T08:02:48.906636Z",
     "start_time": "2024-06-15T08:02:47.750097Z"
    }
   },
   "cell_type": "code",
   "source": [
    "path_to_save = r'../data/yolov_data/wersek_yolov'\n",
    "create_yolov_dataset(stat, path_to_save)"
   ],
   "id": "348f907004067f93",
   "outputs": [],
   "execution_count": 20
  },
  {
   "metadata": {},
   "cell_type": "code",
   "outputs": [],
   "execution_count": null,
   "source": "",
   "id": "ee548aee2846c385"
  }
 ],
 "metadata": {
  "kernelspec": {
   "display_name": "Python 3",
   "language": "python",
   "name": "python3"
  },
  "language_info": {
   "codemirror_mode": {
    "name": "ipython",
    "version": 2
   },
   "file_extension": ".py",
   "mimetype": "text/x-python",
   "name": "python",
   "nbconvert_exporter": "python",
   "pygments_lexer": "ipython2",
   "version": "2.7.6"
  }
 },
 "nbformat": 4,
 "nbformat_minor": 5
}
