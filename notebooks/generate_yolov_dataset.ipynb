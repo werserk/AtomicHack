{
 "cells": [
  {
   "cell_type": "code",
   "id": "initial_id",
   "metadata": {
    "collapsed": true,
    "ExecuteTime": {
     "end_time": "2024-06-15T10:53:59.630466Z",
     "start_time": "2024-06-15T10:53:59.596038Z"
    }
   },
   "source": [
    "import os\n",
    "\n",
    "import pandas as pd\n",
    "\n",
    "from prepare_data.statistics import calculate_stats\n",
    "from prepare_data.utils import create_folder\n",
    "\n",
    "from sklearn.model_selection import train_test_split\n",
    "import shutil\n",
    "from PIL import Image\n"
   ],
   "outputs": [],
   "execution_count": 2
  },
  {
   "metadata": {
    "ExecuteTime": {
     "end_time": "2024-06-15T10:58:49.518389Z",
     "start_time": "2024-06-15T10:58:49.514734Z"
    }
   },
   "cell_type": "code",
   "source": [
    "data_dir = '../data/prepare_data/images'\n",
    "labels_dir = '../data/prepare_data/labels'\n",
    "save_dir = '../data/yolov_data'"
   ],
   "id": "87cd1f865f44cd0c",
   "outputs": [],
   "execution_count": 22
  },
  {
   "metadata": {},
   "cell_type": "markdown",
   "source": "## Calculate Statistics for sep train - test - val",
   "id": "2bf1feb4036b5af3"
  },
  {
   "metadata": {
    "ExecuteTime": {
     "end_time": "2024-06-15T10:58:50.740580Z",
     "start_time": "2024-06-15T10:58:50.403319Z"
    }
   },
   "cell_type": "code",
   "source": [
    "df = pd.DataFrame(columns=['file_name', 'path_to_image', 'path_to_label'])\n",
    "for root, dirs, files in os.walk(data_dir):\n",
    "    for file in files:\n",
    "        path_to_image = os.path.join(root, file.replace('_label.', '.'))\n",
    "        path_to_label = os.path.join(labels_dir, file.replace('_label.', '.').replace('jpg', 'txt'))\n",
    "        df = pd.concat((df, pd.DataFrame({'file_name': file.split('.')[0],\n",
    "                                          'path_to_image': path_to_image,\n",
    "                                          'path_to_label': path_to_label}, index=[0])), ignore_index=True)"
   ],
   "id": "7dea1d91dfcab0be",
   "outputs": [],
   "execution_count": 23
  },
  {
   "metadata": {
    "ExecuteTime": {
     "end_time": "2024-06-15T10:58:50.845061Z",
     "start_time": "2024-06-15T10:58:50.833530Z"
    }
   },
   "cell_type": "code",
   "source": "df",
   "id": "ba99349a09b07cc1",
   "outputs": [
    {
     "data": {
      "text/plain": [
       "     file_name                            path_to_image  \\\n",
       "0      5 (102)  ../data/prepare_data/images/5 (102).jpg   \n",
       "1       7 (34)   ../data/prepare_data/images/7 (34).jpg   \n",
       "2      12 (22)  ../data/prepare_data/images/12 (22).jpg   \n",
       "3       6 (27)   ../data/prepare_data/images/6 (27).jpg   \n",
       "4       8 (30)   ../data/prepare_data/images/8 (30).jpg   \n",
       "...        ...                                      ...   \n",
       "1157   11 (21)  ../data/prepare_data/images/11 (21).jpg   \n",
       "1158    7 (17)   ../data/prepare_data/images/7 (17).jpg   \n",
       "1159   7 (143)  ../data/prepare_data/images/7 (143).jpg   \n",
       "1160    8 (47)   ../data/prepare_data/images/8 (47).jpg   \n",
       "1161    6 (25)   ../data/prepare_data/images/6 (25).jpg   \n",
       "\n",
       "                                path_to_label  \n",
       "0     ../data/prepare_data/labels/5 (102).txt  \n",
       "1      ../data/prepare_data/labels/7 (34).txt  \n",
       "2     ../data/prepare_data/labels/12 (22).txt  \n",
       "3      ../data/prepare_data/labels/6 (27).txt  \n",
       "4      ../data/prepare_data/labels/8 (30).txt  \n",
       "...                                       ...  \n",
       "1157  ../data/prepare_data/labels/11 (21).txt  \n",
       "1158   ../data/prepare_data/labels/7 (17).txt  \n",
       "1159  ../data/prepare_data/labels/7 (143).txt  \n",
       "1160   ../data/prepare_data/labels/8 (47).txt  \n",
       "1161   ../data/prepare_data/labels/6 (25).txt  \n",
       "\n",
       "[1162 rows x 3 columns]"
      ],
      "text/html": [
       "<div>\n",
       "<style scoped>\n",
       "    .dataframe tbody tr th:only-of-type {\n",
       "        vertical-align: middle;\n",
       "    }\n",
       "\n",
       "    .dataframe tbody tr th {\n",
       "        vertical-align: top;\n",
       "    }\n",
       "\n",
       "    .dataframe thead th {\n",
       "        text-align: right;\n",
       "    }\n",
       "</style>\n",
       "<table border=\"1\" class=\"dataframe\">\n",
       "  <thead>\n",
       "    <tr style=\"text-align: right;\">\n",
       "      <th></th>\n",
       "      <th>file_name</th>\n",
       "      <th>path_to_image</th>\n",
       "      <th>path_to_label</th>\n",
       "    </tr>\n",
       "  </thead>\n",
       "  <tbody>\n",
       "    <tr>\n",
       "      <th>0</th>\n",
       "      <td>5 (102)</td>\n",
       "      <td>../data/prepare_data/images/5 (102).jpg</td>\n",
       "      <td>../data/prepare_data/labels/5 (102).txt</td>\n",
       "    </tr>\n",
       "    <tr>\n",
       "      <th>1</th>\n",
       "      <td>7 (34)</td>\n",
       "      <td>../data/prepare_data/images/7 (34).jpg</td>\n",
       "      <td>../data/prepare_data/labels/7 (34).txt</td>\n",
       "    </tr>\n",
       "    <tr>\n",
       "      <th>2</th>\n",
       "      <td>12 (22)</td>\n",
       "      <td>../data/prepare_data/images/12 (22).jpg</td>\n",
       "      <td>../data/prepare_data/labels/12 (22).txt</td>\n",
       "    </tr>\n",
       "    <tr>\n",
       "      <th>3</th>\n",
       "      <td>6 (27)</td>\n",
       "      <td>../data/prepare_data/images/6 (27).jpg</td>\n",
       "      <td>../data/prepare_data/labels/6 (27).txt</td>\n",
       "    </tr>\n",
       "    <tr>\n",
       "      <th>4</th>\n",
       "      <td>8 (30)</td>\n",
       "      <td>../data/prepare_data/images/8 (30).jpg</td>\n",
       "      <td>../data/prepare_data/labels/8 (30).txt</td>\n",
       "    </tr>\n",
       "    <tr>\n",
       "      <th>...</th>\n",
       "      <td>...</td>\n",
       "      <td>...</td>\n",
       "      <td>...</td>\n",
       "    </tr>\n",
       "    <tr>\n",
       "      <th>1157</th>\n",
       "      <td>11 (21)</td>\n",
       "      <td>../data/prepare_data/images/11 (21).jpg</td>\n",
       "      <td>../data/prepare_data/labels/11 (21).txt</td>\n",
       "    </tr>\n",
       "    <tr>\n",
       "      <th>1158</th>\n",
       "      <td>7 (17)</td>\n",
       "      <td>../data/prepare_data/images/7 (17).jpg</td>\n",
       "      <td>../data/prepare_data/labels/7 (17).txt</td>\n",
       "    </tr>\n",
       "    <tr>\n",
       "      <th>1159</th>\n",
       "      <td>7 (143)</td>\n",
       "      <td>../data/prepare_data/images/7 (143).jpg</td>\n",
       "      <td>../data/prepare_data/labels/7 (143).txt</td>\n",
       "    </tr>\n",
       "    <tr>\n",
       "      <th>1160</th>\n",
       "      <td>8 (47)</td>\n",
       "      <td>../data/prepare_data/images/8 (47).jpg</td>\n",
       "      <td>../data/prepare_data/labels/8 (47).txt</td>\n",
       "    </tr>\n",
       "    <tr>\n",
       "      <th>1161</th>\n",
       "      <td>6 (25)</td>\n",
       "      <td>../data/prepare_data/images/6 (25).jpg</td>\n",
       "      <td>../data/prepare_data/labels/6 (25).txt</td>\n",
       "    </tr>\n",
       "  </tbody>\n",
       "</table>\n",
       "<p>1162 rows × 3 columns</p>\n",
       "</div>"
      ]
     },
     "execution_count": 24,
     "metadata": {},
     "output_type": "execute_result"
    }
   ],
   "execution_count": 24
  },
  {
   "metadata": {
    "ExecuteTime": {
     "end_time": "2024-06-15T10:58:51.893064Z",
     "start_time": "2024-06-15T10:58:51.077359Z"
    }
   },
   "cell_type": "code",
   "source": "stat = calculate_stats(df)",
   "id": "a7eb76d146d8f65b",
   "outputs": [],
   "execution_count": 25
  },
  {
   "metadata": {
    "ExecuteTime": {
     "end_time": "2024-06-15T10:58:51.904129Z",
     "start_time": "2024-06-15T10:58:51.894531Z"
    }
   },
   "cell_type": "code",
   "source": "stat.groupby('video_id').sum()[['pat0', 'pat1', 'pat2', 'pat3', 'pat4']]",
   "id": "5f34615f78712341",
   "outputs": [
    {
     "data": {
      "text/plain": [
       "         pat0 pat1 pat2 pat3 pat4\n",
       "video_id                         \n",
       "1          87    2    7    0    0\n",
       "2          62    0    0    0    0\n",
       "3          21    0   18    9   10\n",
       "4         351   56  124   45   26\n",
       "5         393   72  198   48   51\n",
       "6           0   11   97   19    0\n",
       "7         568  134  299   68  104\n",
       "8           0    0  183   72    0\n",
       "9           0   19   53   26    0\n",
       "11          0    0   84    0    0\n",
       "12          0   94    0    0   14"
      ],
      "text/html": [
       "<div>\n",
       "<style scoped>\n",
       "    .dataframe tbody tr th:only-of-type {\n",
       "        vertical-align: middle;\n",
       "    }\n",
       "\n",
       "    .dataframe tbody tr th {\n",
       "        vertical-align: top;\n",
       "    }\n",
       "\n",
       "    .dataframe thead th {\n",
       "        text-align: right;\n",
       "    }\n",
       "</style>\n",
       "<table border=\"1\" class=\"dataframe\">\n",
       "  <thead>\n",
       "    <tr style=\"text-align: right;\">\n",
       "      <th></th>\n",
       "      <th>pat0</th>\n",
       "      <th>pat1</th>\n",
       "      <th>pat2</th>\n",
       "      <th>pat3</th>\n",
       "      <th>pat4</th>\n",
       "    </tr>\n",
       "    <tr>\n",
       "      <th>video_id</th>\n",
       "      <th></th>\n",
       "      <th></th>\n",
       "      <th></th>\n",
       "      <th></th>\n",
       "      <th></th>\n",
       "    </tr>\n",
       "  </thead>\n",
       "  <tbody>\n",
       "    <tr>\n",
       "      <th>1</th>\n",
       "      <td>87</td>\n",
       "      <td>2</td>\n",
       "      <td>7</td>\n",
       "      <td>0</td>\n",
       "      <td>0</td>\n",
       "    </tr>\n",
       "    <tr>\n",
       "      <th>2</th>\n",
       "      <td>62</td>\n",
       "      <td>0</td>\n",
       "      <td>0</td>\n",
       "      <td>0</td>\n",
       "      <td>0</td>\n",
       "    </tr>\n",
       "    <tr>\n",
       "      <th>3</th>\n",
       "      <td>21</td>\n",
       "      <td>0</td>\n",
       "      <td>18</td>\n",
       "      <td>9</td>\n",
       "      <td>10</td>\n",
       "    </tr>\n",
       "    <tr>\n",
       "      <th>4</th>\n",
       "      <td>351</td>\n",
       "      <td>56</td>\n",
       "      <td>124</td>\n",
       "      <td>45</td>\n",
       "      <td>26</td>\n",
       "    </tr>\n",
       "    <tr>\n",
       "      <th>5</th>\n",
       "      <td>393</td>\n",
       "      <td>72</td>\n",
       "      <td>198</td>\n",
       "      <td>48</td>\n",
       "      <td>51</td>\n",
       "    </tr>\n",
       "    <tr>\n",
       "      <th>6</th>\n",
       "      <td>0</td>\n",
       "      <td>11</td>\n",
       "      <td>97</td>\n",
       "      <td>19</td>\n",
       "      <td>0</td>\n",
       "    </tr>\n",
       "    <tr>\n",
       "      <th>7</th>\n",
       "      <td>568</td>\n",
       "      <td>134</td>\n",
       "      <td>299</td>\n",
       "      <td>68</td>\n",
       "      <td>104</td>\n",
       "    </tr>\n",
       "    <tr>\n",
       "      <th>8</th>\n",
       "      <td>0</td>\n",
       "      <td>0</td>\n",
       "      <td>183</td>\n",
       "      <td>72</td>\n",
       "      <td>0</td>\n",
       "    </tr>\n",
       "    <tr>\n",
       "      <th>9</th>\n",
       "      <td>0</td>\n",
       "      <td>19</td>\n",
       "      <td>53</td>\n",
       "      <td>26</td>\n",
       "      <td>0</td>\n",
       "    </tr>\n",
       "    <tr>\n",
       "      <th>11</th>\n",
       "      <td>0</td>\n",
       "      <td>0</td>\n",
       "      <td>84</td>\n",
       "      <td>0</td>\n",
       "      <td>0</td>\n",
       "    </tr>\n",
       "    <tr>\n",
       "      <th>12</th>\n",
       "      <td>0</td>\n",
       "      <td>94</td>\n",
       "      <td>0</td>\n",
       "      <td>0</td>\n",
       "      <td>14</td>\n",
       "    </tr>\n",
       "  </tbody>\n",
       "</table>\n",
       "</div>"
      ]
     },
     "execution_count": 26,
     "metadata": {},
     "output_type": "execute_result"
    }
   ],
   "execution_count": 26
  },
  {
   "metadata": {},
   "cell_type": "markdown",
   "source": "Труба - 12, 11, 9, 8, 6, ",
   "id": "739e76c344dd2059"
  },
  {
   "metadata": {
    "ExecuteTime": {
     "end_time": "2024-06-15T10:58:51.908780Z",
     "start_time": "2024-06-15T10:58:51.904937Z"
    }
   },
   "cell_type": "code",
   "source": [
    "tube = [12, 11, 9, 8, 6]\n",
    "plane = [1, 3, 4, 5, 7]"
   ],
   "id": "a5dfa32e5664d92b",
   "outputs": [],
   "execution_count": 27
  },
  {
   "metadata": {
    "ExecuteTime": {
     "end_time": "2024-06-15T10:58:51.915550Z",
     "start_time": "2024-06-15T10:58:51.910065Z"
    }
   },
   "cell_type": "code",
   "source": [
    "train_tube, test_tube = train_test_split(tube, test_size=0.2, random_state=43, shuffle=True)\n",
    "train_plane, test_plane = train_test_split(plane, test_size=0.2, random_state=43, shuffle=True)\n",
    "\n",
    "train = train_plane + train_tube\n",
    "test = test_plane + test_tube\n"
   ],
   "id": "8b9b498b561a8e74",
   "outputs": [],
   "execution_count": 28
  },
  {
   "metadata": {
    "ExecuteTime": {
     "end_time": "2024-06-15T10:58:52.261606Z",
     "start_time": "2024-06-15T10:58:52.257755Z"
    }
   },
   "cell_type": "code",
   "source": "test",
   "id": "efe0c9029ea48c50",
   "outputs": [
    {
     "data": {
      "text/plain": [
       "[5, 8]"
      ]
     },
     "execution_count": 29,
     "metadata": {},
     "output_type": "execute_result"
    }
   ],
   "execution_count": 29
  },
  {
   "metadata": {
    "ExecuteTime": {
     "end_time": "2024-06-15T10:58:52.493920Z",
     "start_time": "2024-06-15T10:58:52.477422Z"
    }
   },
   "cell_type": "code",
   "source": "stat[stat['video_id'].isin(test)].groupby('video_id').sum()[['pat0', 'pat1', 'pat2', 'pat3', 'pat4']].sum()\n",
   "id": "c81c400ea615787d",
   "outputs": [
    {
     "data": {
      "text/plain": [
       "pat0    393\n",
       "pat1     72\n",
       "pat2    381\n",
       "pat3    120\n",
       "pat4     51\n",
       "dtype: object"
      ]
     },
     "execution_count": 30,
     "metadata": {},
     "output_type": "execute_result"
    }
   ],
   "execution_count": 30
  },
  {
   "metadata": {
    "ExecuteTime": {
     "end_time": "2024-06-15T10:58:52.684182Z",
     "start_time": "2024-06-15T10:58:52.675377Z"
    }
   },
   "cell_type": "code",
   "source": [
    "stat[stat['video_id'].isin(train)].groupby('video_id').sum()[['pat0', 'pat1', 'pat2', 'pat3', 'pat4']].sum()\n",
    "    "
   ],
   "id": "5824f76e970876d",
   "outputs": [
    {
     "data": {
      "text/plain": [
       "pat0    1027\n",
       "pat1     316\n",
       "pat2     682\n",
       "pat3     167\n",
       "pat4     154\n",
       "dtype: object"
      ]
     },
     "execution_count": 31,
     "metadata": {},
     "output_type": "execute_result"
    }
   ],
   "execution_count": 31
  },
  {
   "metadata": {
    "ExecuteTime": {
     "end_time": "2024-06-15T10:58:52.910778Z",
     "start_time": "2024-06-15T10:58:52.907150Z"
    }
   },
   "cell_type": "code",
   "source": "stat['train_test'] = stat['video_id'].map(lambda x: 'train' if x in train else 'test')",
   "id": "fe89cb2fb851b455",
   "outputs": [],
   "execution_count": 32
  },
  {
   "metadata": {
    "ExecuteTime": {
     "end_time": "2024-06-15T10:58:53.305063Z",
     "start_time": "2024-06-15T10:58:53.295672Z"
    }
   },
   "cell_type": "code",
   "source": "stat",
   "id": "882958710f6c978e",
   "outputs": [
    {
     "data": {
      "text/plain": [
       "                                path_to_label  \\\n",
       "0     ../data/prepare_data/labels/5 (102).txt   \n",
       "1      ../data/prepare_data/labels/7 (34).txt   \n",
       "2     ../data/prepare_data/labels/12 (22).txt   \n",
       "3      ../data/prepare_data/labels/6 (27).txt   \n",
       "4      ../data/prepare_data/labels/8 (30).txt   \n",
       "...                                       ...   \n",
       "1157  ../data/prepare_data/labels/11 (21).txt   \n",
       "1158   ../data/prepare_data/labels/7 (17).txt   \n",
       "1159  ../data/prepare_data/labels/7 (143).txt   \n",
       "1160   ../data/prepare_data/labels/8 (47).txt   \n",
       "1161   ../data/prepare_data/labels/6 (25).txt   \n",
       "\n",
       "                                path_to_image     name video_id frame_id pat0  \\\n",
       "0     ../data/prepare_data/images/5 (102).jpg  5 (102)        5      102    0   \n",
       "1      ../data/prepare_data/images/7 (34).jpg   7 (34)        7       34    4   \n",
       "2     ../data/prepare_data/images/12 (22).jpg  12 (22)       12       22    0   \n",
       "3      ../data/prepare_data/images/6 (27).jpg   6 (27)        6       27    0   \n",
       "4      ../data/prepare_data/images/8 (30).jpg   8 (30)        8       30    0   \n",
       "...                                       ...      ...      ...      ...  ...   \n",
       "1157  ../data/prepare_data/images/11 (21).jpg  11 (21)       11       21    0   \n",
       "1158   ../data/prepare_data/images/7 (17).jpg   7 (17)        7       17    7   \n",
       "1159  ../data/prepare_data/images/7 (143).jpg  7 (143)        7      143    4   \n",
       "1160   ../data/prepare_data/images/8 (47).jpg   8 (47)        8       47    0   \n",
       "1161   ../data/prepare_data/images/6 (25).jpg   6 (25)        6       25    0   \n",
       "\n",
       "     pat1 pat2 pat3 pat4 train_test  \n",
       "0       1    0    0    0       test  \n",
       "1       0    1    3    0      train  \n",
       "2       1    0    0    0      train  \n",
       "3       1    0    0    0      train  \n",
       "4       0    1    0    0       test  \n",
       "...   ...  ...  ...  ...        ...  \n",
       "1157    0    1    0    0      train  \n",
       "1158    1    0    2    0      train  \n",
       "1159    0    2    0    0      train  \n",
       "1160    0    1    2    0       test  \n",
       "1161    1    0    0    0      train  \n",
       "\n",
       "[1162 rows x 11 columns]"
      ],
      "text/html": [
       "<div>\n",
       "<style scoped>\n",
       "    .dataframe tbody tr th:only-of-type {\n",
       "        vertical-align: middle;\n",
       "    }\n",
       "\n",
       "    .dataframe tbody tr th {\n",
       "        vertical-align: top;\n",
       "    }\n",
       "\n",
       "    .dataframe thead th {\n",
       "        text-align: right;\n",
       "    }\n",
       "</style>\n",
       "<table border=\"1\" class=\"dataframe\">\n",
       "  <thead>\n",
       "    <tr style=\"text-align: right;\">\n",
       "      <th></th>\n",
       "      <th>path_to_label</th>\n",
       "      <th>path_to_image</th>\n",
       "      <th>name</th>\n",
       "      <th>video_id</th>\n",
       "      <th>frame_id</th>\n",
       "      <th>pat0</th>\n",
       "      <th>pat1</th>\n",
       "      <th>pat2</th>\n",
       "      <th>pat3</th>\n",
       "      <th>pat4</th>\n",
       "      <th>train_test</th>\n",
       "    </tr>\n",
       "  </thead>\n",
       "  <tbody>\n",
       "    <tr>\n",
       "      <th>0</th>\n",
       "      <td>../data/prepare_data/labels/5 (102).txt</td>\n",
       "      <td>../data/prepare_data/images/5 (102).jpg</td>\n",
       "      <td>5 (102)</td>\n",
       "      <td>5</td>\n",
       "      <td>102</td>\n",
       "      <td>0</td>\n",
       "      <td>1</td>\n",
       "      <td>0</td>\n",
       "      <td>0</td>\n",
       "      <td>0</td>\n",
       "      <td>test</td>\n",
       "    </tr>\n",
       "    <tr>\n",
       "      <th>1</th>\n",
       "      <td>../data/prepare_data/labels/7 (34).txt</td>\n",
       "      <td>../data/prepare_data/images/7 (34).jpg</td>\n",
       "      <td>7 (34)</td>\n",
       "      <td>7</td>\n",
       "      <td>34</td>\n",
       "      <td>4</td>\n",
       "      <td>0</td>\n",
       "      <td>1</td>\n",
       "      <td>3</td>\n",
       "      <td>0</td>\n",
       "      <td>train</td>\n",
       "    </tr>\n",
       "    <tr>\n",
       "      <th>2</th>\n",
       "      <td>../data/prepare_data/labels/12 (22).txt</td>\n",
       "      <td>../data/prepare_data/images/12 (22).jpg</td>\n",
       "      <td>12 (22)</td>\n",
       "      <td>12</td>\n",
       "      <td>22</td>\n",
       "      <td>0</td>\n",
       "      <td>1</td>\n",
       "      <td>0</td>\n",
       "      <td>0</td>\n",
       "      <td>0</td>\n",
       "      <td>train</td>\n",
       "    </tr>\n",
       "    <tr>\n",
       "      <th>3</th>\n",
       "      <td>../data/prepare_data/labels/6 (27).txt</td>\n",
       "      <td>../data/prepare_data/images/6 (27).jpg</td>\n",
       "      <td>6 (27)</td>\n",
       "      <td>6</td>\n",
       "      <td>27</td>\n",
       "      <td>0</td>\n",
       "      <td>1</td>\n",
       "      <td>0</td>\n",
       "      <td>0</td>\n",
       "      <td>0</td>\n",
       "      <td>train</td>\n",
       "    </tr>\n",
       "    <tr>\n",
       "      <th>4</th>\n",
       "      <td>../data/prepare_data/labels/8 (30).txt</td>\n",
       "      <td>../data/prepare_data/images/8 (30).jpg</td>\n",
       "      <td>8 (30)</td>\n",
       "      <td>8</td>\n",
       "      <td>30</td>\n",
       "      <td>0</td>\n",
       "      <td>0</td>\n",
       "      <td>1</td>\n",
       "      <td>0</td>\n",
       "      <td>0</td>\n",
       "      <td>test</td>\n",
       "    </tr>\n",
       "    <tr>\n",
       "      <th>...</th>\n",
       "      <td>...</td>\n",
       "      <td>...</td>\n",
       "      <td>...</td>\n",
       "      <td>...</td>\n",
       "      <td>...</td>\n",
       "      <td>...</td>\n",
       "      <td>...</td>\n",
       "      <td>...</td>\n",
       "      <td>...</td>\n",
       "      <td>...</td>\n",
       "      <td>...</td>\n",
       "    </tr>\n",
       "    <tr>\n",
       "      <th>1157</th>\n",
       "      <td>../data/prepare_data/labels/11 (21).txt</td>\n",
       "      <td>../data/prepare_data/images/11 (21).jpg</td>\n",
       "      <td>11 (21)</td>\n",
       "      <td>11</td>\n",
       "      <td>21</td>\n",
       "      <td>0</td>\n",
       "      <td>0</td>\n",
       "      <td>1</td>\n",
       "      <td>0</td>\n",
       "      <td>0</td>\n",
       "      <td>train</td>\n",
       "    </tr>\n",
       "    <tr>\n",
       "      <th>1158</th>\n",
       "      <td>../data/prepare_data/labels/7 (17).txt</td>\n",
       "      <td>../data/prepare_data/images/7 (17).jpg</td>\n",
       "      <td>7 (17)</td>\n",
       "      <td>7</td>\n",
       "      <td>17</td>\n",
       "      <td>7</td>\n",
       "      <td>1</td>\n",
       "      <td>0</td>\n",
       "      <td>2</td>\n",
       "      <td>0</td>\n",
       "      <td>train</td>\n",
       "    </tr>\n",
       "    <tr>\n",
       "      <th>1159</th>\n",
       "      <td>../data/prepare_data/labels/7 (143).txt</td>\n",
       "      <td>../data/prepare_data/images/7 (143).jpg</td>\n",
       "      <td>7 (143)</td>\n",
       "      <td>7</td>\n",
       "      <td>143</td>\n",
       "      <td>4</td>\n",
       "      <td>0</td>\n",
       "      <td>2</td>\n",
       "      <td>0</td>\n",
       "      <td>0</td>\n",
       "      <td>train</td>\n",
       "    </tr>\n",
       "    <tr>\n",
       "      <th>1160</th>\n",
       "      <td>../data/prepare_data/labels/8 (47).txt</td>\n",
       "      <td>../data/prepare_data/images/8 (47).jpg</td>\n",
       "      <td>8 (47)</td>\n",
       "      <td>8</td>\n",
       "      <td>47</td>\n",
       "      <td>0</td>\n",
       "      <td>0</td>\n",
       "      <td>1</td>\n",
       "      <td>2</td>\n",
       "      <td>0</td>\n",
       "      <td>test</td>\n",
       "    </tr>\n",
       "    <tr>\n",
       "      <th>1161</th>\n",
       "      <td>../data/prepare_data/labels/6 (25).txt</td>\n",
       "      <td>../data/prepare_data/images/6 (25).jpg</td>\n",
       "      <td>6 (25)</td>\n",
       "      <td>6</td>\n",
       "      <td>25</td>\n",
       "      <td>0</td>\n",
       "      <td>1</td>\n",
       "      <td>0</td>\n",
       "      <td>0</td>\n",
       "      <td>0</td>\n",
       "      <td>train</td>\n",
       "    </tr>\n",
       "  </tbody>\n",
       "</table>\n",
       "<p>1162 rows × 11 columns</p>\n",
       "</div>"
      ]
     },
     "execution_count": 33,
     "metadata": {},
     "output_type": "execute_result"
    }
   ],
   "execution_count": 33
  },
  {
   "metadata": {
    "ExecuteTime": {
     "end_time": "2024-06-15T11:15:09.364703Z",
     "start_time": "2024-06-15T11:15:09.353641Z"
    }
   },
   "cell_type": "code",
   "source": [
    "path_to_save_yolov = r'../data/yolov_data/data_all_resize'\n",
    "\n",
    "create_folder(os.path.join(path_to_save_yolov))\n",
    "create_folder(os.path.join(path_to_save_yolov, \"labels\"))\n",
    "create_folder(os.path.join(path_to_save_yolov, \"labels\", \"train\"))\n",
    "create_folder(os.path.join(path_to_save_yolov, \"labels\", \"test\"))\n",
    "create_folder(os.path.join(path_to_save_yolov, \"labels\", \"val\"))\n",
    "\n",
    "create_folder(os.path.join(path_to_save_yolov, \"images\"))\n",
    "create_folder(os.path.join(path_to_save_yolov, \"images\", \"train\"))\n",
    "create_folder(os.path.join(path_to_save_yolov, \"images\", \"test\"))\n",
    "create_folder(os.path.join(path_to_save_yolov, \"images\", \"val\"))\n"
   ],
   "id": "5f90a58ed55024fb",
   "outputs": [],
   "execution_count": 38
  },
  {
   "metadata": {
    "ExecuteTime": {
     "end_time": "2024-06-15T11:15:09.522275Z",
     "start_time": "2024-06-15T11:15:09.518072Z"
    }
   },
   "cell_type": "code",
   "source": [
    "def resize_image(input_path, output_path, width=640):\n",
    "    with Image.open(input_path) as img:\n",
    "        # Вычисляем новое соотношение высоты\n",
    "        ratio = width / float(img.size[0])\n",
    "        height = int((float(img.size[1]) * float(ratio)))\n",
    "        \n",
    "        # Изменяем размер изображения\n",
    "        resized_img = img.resize((width, height))\n",
    "        \n",
    "        # Сохраняем изображение\n",
    "        resized_img.save(output_path)\n",
    "        # print(f\"Image saved at {output_path}\")\n"
   ],
   "id": "dc2cb57dfa5af976",
   "outputs": [],
   "execution_count": 39
  },
  {
   "metadata": {
    "ExecuteTime": {
     "end_time": "2024-06-15T11:15:09.645355Z",
     "start_time": "2024-06-15T11:15:09.639804Z"
    }
   },
   "cell_type": "code",
   "source": [
    "def create_yolov_dataset(data: pd.DataFrame, path_to_save: str):\n",
    "    for i, row in data.iterrows():\n",
    "        train_test = row['train_test']\n",
    "                \n",
    "        name = row['name']\n",
    "        \n",
    "        path_to_label = row['path_to_label']\n",
    "        path_to_image = path_to_label.replace('labels', 'images').replace('.txt', '.jpg')\n",
    "\n",
    "\n",
    "        # shutil.copy(path_to_image, os.path.join(path_to_save, 'images', train_test, name + '.jpg'))\n",
    "        resize_image(path_to_image, os.path.join(path_to_save, 'images', train_test, name + '.jpg'))\n",
    "        shutil.copy(path_to_label, os.path.join(path_to_save, 'labels', train_test, name + '.txt'))\n",
    "        \n",
    "        if train_test == 'test':\n",
    "            # shutil.copy(path_to_image, os.path.join(path_to_save, 'images', 'val', name + '.jpg'))\n",
    "            resize_image(path_to_image, os.path.join(path_to_save, 'images', 'val', name + '.jpg'))\n",
    "            shutil.copy(path_to_label, os.path.join(path_to_save, 'labels', 'val', name + '.txt'))\n",
    "\n"
   ],
   "id": "93afb5166404a8ec",
   "outputs": [],
   "execution_count": 40
  },
  {
   "metadata": {
    "ExecuteTime": {
     "end_time": "2024-06-15T11:17:51.079335Z",
     "start_time": "2024-06-15T11:15:11.109489Z"
    }
   },
   "cell_type": "code",
   "source": "create_yolov_dataset(stat, path_to_save_yolov)",
   "id": "348f907004067f93",
   "outputs": [],
   "execution_count": 41
  },
  {
   "metadata": {},
   "cell_type": "code",
   "outputs": [],
   "execution_count": null,
   "source": "",
   "id": "ee548aee2846c385"
  }
 ],
 "metadata": {
  "kernelspec": {
   "display_name": "Python 3",
   "language": "python",
   "name": "python3"
  },
  "language_info": {
   "codemirror_mode": {
    "name": "ipython",
    "version": 2
   },
   "file_extension": ".py",
   "mimetype": "text/x-python",
   "name": "python",
   "nbconvert_exporter": "python",
   "pygments_lexer": "ipython2",
   "version": "2.7.6"
  }
 },
 "nbformat": 4,
 "nbformat_minor": 5
}
