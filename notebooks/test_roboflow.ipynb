{
 "cells": [
  {
   "cell_type": "code",
   "id": "initial_id",
   "metadata": {
    "collapsed": true,
    "ExecuteTime": {
     "end_time": "2024-06-15T12:49:16.307774Z",
     "start_time": "2024-06-15T12:49:16.101148Z"
    }
   },
   "source": [
    "from roboflow import Roboflow\n",
    "import supervision as sv\n",
    "import cv2\n",
    "\n",
    "rf = Roboflow(api_key=\"OegLE9in8rKv9dv0Lidm\")\n",
    "project = rf.workspace().project(\"shvy\")\n",
    "model = project.version(1).model\n",
    "\n",
    "result = model.predict(\"your_image.jpg\", confidence=40, overlap=30).json()\n",
    "\n",
    "labels = [item[\"class\"] for item in result[\"predictions\"]]\n",
    "\n",
    "detections = sv.Detections.from_roboflow(result)\n",
    "\n",
    "label_annotator = sv.LabelAnnotator()\n",
    "bounding_box_annotator = sv.BoxAnnotator()\n",
    "\n",
    "image = cv2.imread(\"your_image.jpg\")\n",
    "\n",
    "annotated_image = box_annotator.annotate(scene=image, detections=detections)\n",
    "annotated_image = label_annotator.annotate(\n",
    "    scene=annotated_image, detections=detections, labels=labels\n",
    ")\n",
    "\n",
    "sv.plot_image(image=annotated_image, size=(16, 16))"
   ],
   "execution_count": 1,
   "outputs": []
  },
  {
   "metadata": {},
   "cell_type": "code",
   "execution_count": null,
   "source": "",
   "id": "77fd4c135a330f0e",
   "outputs": []
  }
 ],
 "metadata": {
  "kernelspec": {
   "display_name": "Python 3",
   "language": "python",
   "name": "python3"
  },
  "language_info": {
   "codemirror_mode": {
    "name": "ipython",
    "version": 2
   },
   "file_extension": ".py",
   "mimetype": "text/x-python",
   "name": "python",
   "nbconvert_exporter": "python",
   "pygments_lexer": "ipython2",
   "version": "2.7.6"
  }
 },
 "nbformat": 4,
 "nbformat_minor": 5
}
