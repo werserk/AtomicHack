{
 "cells": [
  {
   "cell_type": "code",
   "id": "initial_id",
   "metadata": {
    "collapsed": true,
    "ExecuteTime": {
     "end_time": "2024-06-15T12:49:16.307774Z",
     "start_time": "2024-06-15T12:49:16.101148Z"
    }
   },
   "source": [
    "from roboflow import Roboflow\n",
    "import supervision as sv\n",
    "import cv2\n",
    "\n",
    "rf = Roboflow(api_key=\"OegLE9in8rKv9dv0Lidm\")\n",
    "project = rf.workspace().project(\"shvy\")\n",
    "model = project.version(1).model\n",
    "\n",
    "result = model.predict(\"your_image.jpg\", confidence=40, overlap=30).json()\n",
    "\n",
    "labels = [item[\"class\"] for item in result[\"predictions\"]]\n",
    "\n",
    "detections = sv.Detections.from_roboflow(result)\n",
    "\n",
    "label_annotator = sv.LabelAnnotator()\n",
    "bounding_box_annotator = sv.BoxAnnotator()\n",
    "\n",
    "image = cv2.imread(\"your_image.jpg\")\n",
    "\n",
    "annotated_image = box_annotator.annotate(scene=image, detections=detections)\n",
    "annotated_image = label_annotator.annotate(\n",
    "    scene=annotated_image, detections=detections, labels=labels\n",
    ")\n",
    "\n",
    "sv.plot_image(image=annotated_image, size=(16, 16))"
   ],
   "outputs": [
    {
     "ename": "ModuleNotFoundError",
     "evalue": "No module named 'roboflow'",
     "output_type": "error",
     "traceback": [
      "\u001b[0;31m---------------------------------------------------------------------------\u001b[0m",
      "\u001b[0;31mModuleNotFoundError\u001b[0m                       Traceback (most recent call last)",
      "Cell \u001b[0;32mIn[1], line 1\u001b[0m\n\u001b[0;32m----> 1\u001b[0m \u001b[38;5;28;01mfrom\u001b[39;00m \u001b[38;5;21;01mroboflow\u001b[39;00m \u001b[38;5;28;01mimport\u001b[39;00m Roboflow\n\u001b[1;32m      2\u001b[0m \u001b[38;5;28;01mimport\u001b[39;00m \u001b[38;5;21;01msupervision\u001b[39;00m \u001b[38;5;28;01mas\u001b[39;00m \u001b[38;5;21;01msv\u001b[39;00m\n\u001b[1;32m      3\u001b[0m \u001b[38;5;28;01mimport\u001b[39;00m \u001b[38;5;21;01mcv2\u001b[39;00m\n",
      "\u001b[0;31mModuleNotFoundError\u001b[0m: No module named 'roboflow'"
     ]
    }
   ],
   "execution_count": 1
  },
  {
   "metadata": {},
   "cell_type": "code",
   "outputs": [],
   "execution_count": null,
   "source": "",
   "id": "77fd4c135a330f0e"
  }
 ],
 "metadata": {
  "kernelspec": {
   "display_name": "Python 3",
   "language": "python",
   "name": "python3"
  },
  "language_info": {
   "codemirror_mode": {
    "name": "ipython",
    "version": 2
   },
   "file_extension": ".py",
   "mimetype": "text/x-python",
   "name": "python",
   "nbconvert_exporter": "python",
   "pygments_lexer": "ipython2",
   "version": "2.7.6"
  }
 },
 "nbformat": 4,
 "nbformat_minor": 5
}
