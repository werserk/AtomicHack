{
 "cells": [
  {
   "cell_type": "code",
   "id": "initial_id",
   "metadata": {
    "collapsed": true,
    "ExecuteTime": {
     "end_time": "2024-06-15T11:00:00.233586Z",
     "start_time": "2024-06-15T10:59:59.818711Z"
    }
   },
   "source": [
    "import os\n",
    "\n",
    "import pandas as pd\n",
    "\n",
    "from prepare_data.labels import get_box_cords"
   ],
   "outputs": [],
   "execution_count": 1
  },
  {
   "metadata": {},
   "cell_type": "markdown",
   "source": "## Train predict",
   "id": "475754c33bf3512c"
  },
  {
   "metadata": {
    "ExecuteTime": {
     "end_time": "2024-06-15T11:02:37.444341Z",
     "start_time": "2024-06-15T11:02:36.066042Z"
    }
   },
   "cell_type": "code",
   "source": [
    "train_data_path = '../data/prepare_data/labels'\n",
    "\n",
    "res = pd.DataFrame(columns=['filename', 'class_id', 'rel_x', 'rel_y', 'width', 'height'])\n",
    "for root, dirs, files in os.walk(train_data_path):\n",
    "    for file in files:\n",
    "        defects = get_box_cords(os.path.join(train_data_path, file))\n",
    "        for label, cords in defects.items():\n",
    "            for cord in cords:\n",
    "                res = pd.concat((res, pd.DataFrame({'filename': file.replace('.txt', '.jpg'), 'class_id': label, 'rel_x': cord[0], 'rel_y': cord[1], 'width': cord[2], 'height': cord[3]}, index=[0])), ignore_index=True)"
   ],
   "id": "47e9261b7a8d4e51",
   "outputs": [
    {
     "name": "stderr",
     "output_type": "stream",
     "text": [
      "/tmp/ipykernel_8891/1022943916.py:9: FutureWarning: The behavior of DataFrame concatenation with empty or all-NA entries is deprecated. In a future version, this will no longer exclude empty or all-NA columns when determining the result dtypes. To retain the old behavior, exclude the relevant entries before the concat operation.\n",
      "  res = pd.concat((res, pd.DataFrame({'filename': file.replace('.txt', '.jpg'), 'class_id': label, 'rel_x': cord[0], 'rel_y': cord[1], 'width': cord[2], 'height': cord[3]}, index=[0])), ignore_index=True)\n"
     ]
    }
   ],
   "execution_count": 5
  },
  {
   "metadata": {
    "ExecuteTime": {
     "end_time": "2024-06-15T11:02:37.453995Z",
     "start_time": "2024-06-15T11:02:37.445784Z"
    }
   },
   "cell_type": "code",
   "source": "res",
   "id": "94b4f7b3cb4efa6",
   "outputs": [
    {
     "data": {
      "text/plain": [
       "         filename class_id     rel_x     rel_y     width    height\n",
       "0      7 (27).jpg        0  0.640195  0.276146  0.067196  0.047004\n",
       "1      7 (27).jpg        0  0.496640  0.572268  0.034209  0.030552\n",
       "2      7 (27).jpg        0  0.616982  0.651586  0.062309  0.055229\n",
       "3      7 (27).jpg        0  0.639279  0.589307  0.039707  0.034078\n",
       "4      7 (27).jpg        0  0.685400  0.544066  0.024435  0.023502\n",
       "...           ...      ...       ...       ...       ...       ...\n",
       "3420  7 (246).jpg        0  0.233354  0.752056  0.017104  0.025852\n",
       "3421  7 (246).jpg        0  0.199450  0.953584  0.025046  0.029377\n",
       "3422   6 (12).jpg        2  0.533293  0.054642  0.279780  0.099882\n",
       "3423   6 (12).jpg        2  0.427917  0.227967  0.167990  0.119859\n",
       "3424   6 (12).jpg        2  0.562004  0.346651  0.200367  0.103408\n",
       "\n",
       "[3425 rows x 6 columns]"
      ],
      "text/html": [
       "<div>\n",
       "<style scoped>\n",
       "    .dataframe tbody tr th:only-of-type {\n",
       "        vertical-align: middle;\n",
       "    }\n",
       "\n",
       "    .dataframe tbody tr th {\n",
       "        vertical-align: top;\n",
       "    }\n",
       "\n",
       "    .dataframe thead th {\n",
       "        text-align: right;\n",
       "    }\n",
       "</style>\n",
       "<table border=\"1\" class=\"dataframe\">\n",
       "  <thead>\n",
       "    <tr style=\"text-align: right;\">\n",
       "      <th></th>\n",
       "      <th>filename</th>\n",
       "      <th>class_id</th>\n",
       "      <th>rel_x</th>\n",
       "      <th>rel_y</th>\n",
       "      <th>width</th>\n",
       "      <th>height</th>\n",
       "    </tr>\n",
       "  </thead>\n",
       "  <tbody>\n",
       "    <tr>\n",
       "      <th>0</th>\n",
       "      <td>7 (27).jpg</td>\n",
       "      <td>0</td>\n",
       "      <td>0.640195</td>\n",
       "      <td>0.276146</td>\n",
       "      <td>0.067196</td>\n",
       "      <td>0.047004</td>\n",
       "    </tr>\n",
       "    <tr>\n",
       "      <th>1</th>\n",
       "      <td>7 (27).jpg</td>\n",
       "      <td>0</td>\n",
       "      <td>0.496640</td>\n",
       "      <td>0.572268</td>\n",
       "      <td>0.034209</td>\n",
       "      <td>0.030552</td>\n",
       "    </tr>\n",
       "    <tr>\n",
       "      <th>2</th>\n",
       "      <td>7 (27).jpg</td>\n",
       "      <td>0</td>\n",
       "      <td>0.616982</td>\n",
       "      <td>0.651586</td>\n",
       "      <td>0.062309</td>\n",
       "      <td>0.055229</td>\n",
       "    </tr>\n",
       "    <tr>\n",
       "      <th>3</th>\n",
       "      <td>7 (27).jpg</td>\n",
       "      <td>0</td>\n",
       "      <td>0.639279</td>\n",
       "      <td>0.589307</td>\n",
       "      <td>0.039707</td>\n",
       "      <td>0.034078</td>\n",
       "    </tr>\n",
       "    <tr>\n",
       "      <th>4</th>\n",
       "      <td>7 (27).jpg</td>\n",
       "      <td>0</td>\n",
       "      <td>0.685400</td>\n",
       "      <td>0.544066</td>\n",
       "      <td>0.024435</td>\n",
       "      <td>0.023502</td>\n",
       "    </tr>\n",
       "    <tr>\n",
       "      <th>...</th>\n",
       "      <td>...</td>\n",
       "      <td>...</td>\n",
       "      <td>...</td>\n",
       "      <td>...</td>\n",
       "      <td>...</td>\n",
       "      <td>...</td>\n",
       "    </tr>\n",
       "    <tr>\n",
       "      <th>3420</th>\n",
       "      <td>7 (246).jpg</td>\n",
       "      <td>0</td>\n",
       "      <td>0.233354</td>\n",
       "      <td>0.752056</td>\n",
       "      <td>0.017104</td>\n",
       "      <td>0.025852</td>\n",
       "    </tr>\n",
       "    <tr>\n",
       "      <th>3421</th>\n",
       "      <td>7 (246).jpg</td>\n",
       "      <td>0</td>\n",
       "      <td>0.199450</td>\n",
       "      <td>0.953584</td>\n",
       "      <td>0.025046</td>\n",
       "      <td>0.029377</td>\n",
       "    </tr>\n",
       "    <tr>\n",
       "      <th>3422</th>\n",
       "      <td>6 (12).jpg</td>\n",
       "      <td>2</td>\n",
       "      <td>0.533293</td>\n",
       "      <td>0.054642</td>\n",
       "      <td>0.279780</td>\n",
       "      <td>0.099882</td>\n",
       "    </tr>\n",
       "    <tr>\n",
       "      <th>3423</th>\n",
       "      <td>6 (12).jpg</td>\n",
       "      <td>2</td>\n",
       "      <td>0.427917</td>\n",
       "      <td>0.227967</td>\n",
       "      <td>0.167990</td>\n",
       "      <td>0.119859</td>\n",
       "    </tr>\n",
       "    <tr>\n",
       "      <th>3424</th>\n",
       "      <td>6 (12).jpg</td>\n",
       "      <td>2</td>\n",
       "      <td>0.562004</td>\n",
       "      <td>0.346651</td>\n",
       "      <td>0.200367</td>\n",
       "      <td>0.103408</td>\n",
       "    </tr>\n",
       "  </tbody>\n",
       "</table>\n",
       "<p>3425 rows × 6 columns</p>\n",
       "</div>"
      ]
     },
     "execution_count": 6,
     "metadata": {},
     "output_type": "execute_result"
    }
   ],
   "execution_count": 6
  },
  {
   "metadata": {
    "ExecuteTime": {
     "end_time": "2024-06-15T11:02:37.477485Z",
     "start_time": "2024-06-15T11:02:37.455343Z"
    }
   },
   "cell_type": "code",
   "source": "res.to_csv('submission.csv', sep=';', index=False)",
   "id": "15ed93fa160a21c1",
   "outputs": [],
   "execution_count": 7
  },
  {
   "metadata": {},
   "cell_type": "code",
   "outputs": [],
   "execution_count": null,
   "source": "re",
   "id": "fae54f9bc6b9fc97"
  }
 ],
 "metadata": {
  "kernelspec": {
   "display_name": "Python 3",
   "language": "python",
   "name": "python3"
  },
  "language_info": {
   "codemirror_mode": {
    "name": "ipython",
    "version": 2
   },
   "file_extension": ".py",
   "mimetype": "text/x-python",
   "name": "python",
   "nbconvert_exporter": "python",
   "pygments_lexer": "ipython2",
   "version": "2.7.6"
  }
 },
 "nbformat": 4,
 "nbformat_minor": 5
}
